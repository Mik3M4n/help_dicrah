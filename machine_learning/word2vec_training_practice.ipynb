{
 "cells": [
  {
   "cell_type": "code",
   "execution_count": 1,
   "metadata": {
    "collapsed": false,
    "deletable": true,
    "editable": true
   },
   "outputs": [],
   "source": [
    "# imports needed\n",
    "import gensim \n",
    "import pandas as pd\n",
    "import numpy as np\n",
    "import random\n",
    "import unidecode\n",
    "import re\n",
    "import nltk\n",
    "from nltk.tokenize import WordPunctTokenizer\n",
    "from nltk.tokenize.regexp import RegexpTokenizer\n",
    "from sklearn.feature_extraction.text import TfidfVectorizer\n",
    "from bs4 import BeautifulSoup\n",
    "from  nltk.stem.snowball import FrenchStemmer, EnglishStemmer\n",
    "from collections import defaultdict\n",
    "import matplotlib.pyplot as plt\n",
    "%matplotlib inline\n",
    "import seaborn as sns\n",
    "from help_dicrah_functions import *\n",
    "\n",
    "\n",
    "import warnings\n",
    "warnings.filterwarnings('ignore')\n",
    "from IPython.core.interactiveshell import InteractiveShell\n",
    "InteractiveShell.ast_node_interactivity = \"all\"\n"
   ]
  },
  {
   "cell_type": "markdown",
   "metadata": {},
   "source": [
    "# Loading and cleaning tweets"
   ]
  },
  {
   "cell_type": "markdown",
   "metadata": {
    "deletable": true,
    "editable": true
   },
   "source": [
    "#### 1 load and clean tweets for w2v"
   ]
  },
  {
   "cell_type": "code",
   "execution_count": 2,
   "metadata": {
    "collapsed": false,
    "deletable": true,
    "editable": true
   },
   "outputs": [
    {
     "data": {
      "text/html": [
       "<div>\n",
       "<style>\n",
       "    .dataframe thead tr:only-child th {\n",
       "        text-align: right;\n",
       "    }\n",
       "\n",
       "    .dataframe thead th {\n",
       "        text-align: left;\n",
       "    }\n",
       "\n",
       "    .dataframe tbody tr th {\n",
       "        vertical-align: top;\n",
       "    }\n",
       "</style>\n",
       "<table border=\"1\" class=\"dataframe\">\n",
       "  <thead>\n",
       "    <tr style=\"text-align: right;\">\n",
       "      <th></th>\n",
       "      <th>tweet</th>\n",
       "    </tr>\n",
       "  </thead>\n",
       "  <tbody>\n",
       "    <tr>\n",
       "      <th>997565477458243584</th>\n",
       "      <td>@AngeFreddy Pouloulouuuu</td>\n",
       "    </tr>\n",
       "    <tr>\n",
       "      <th>957325640465862656</th>\n",
       "      <td>@R0eil Nan😂</td>\n",
       "    </tr>\n",
       "    <tr>\n",
       "      <th>1006280333573181441</th>\n",
       "      <td>@Coldmindxd LAQUELLE.</td>\n",
       "    </tr>\n",
       "    <tr>\n",
       "      <th>834864840359473157</th>\n",
       "      <td>Je me dis que dans 20 ans, j'ai 40 ans 🤔🤔</td>\n",
       "    </tr>\n",
       "    <tr>\n",
       "      <th>1005911475934912522</th>\n",
       "      <td>Le mieux qu’ils puissent faire ... https://t.c...</td>\n",
       "    </tr>\n",
       "  </tbody>\n",
       "</table>\n",
       "</div>"
      ],
      "text/plain": [
       "                                                                 tweet\n",
       "997565477458243584                            @AngeFreddy Pouloulouuuu\n",
       "957325640465862656                                        @R0eil Nan😂\n",
       "1006280333573181441                              @Coldmindxd LAQUELLE.\n",
       "834864840359473157         Je me dis que dans 20 ans, j'ai 40 ans 🤔🤔\n",
       "1005911475934912522  Le mieux qu’ils puissent faire ... https://t.c..."
      ]
     },
     "execution_count": 2,
     "metadata": {},
     "output_type": "execute_result"
    }
   ],
   "source": [
    "filename='/Users/Michi/Google Drive/formation_data_science/twitter_project/help_dicrah/machine_learning/tweets_dilcrah_60k.csv'\n",
    "#Streams/stream_#Web2day OR #aidessociales.jsonl'\n",
    "#Users/help_dicrah_large_random_sample.jsonl'\n",
    "\n",
    "def read_json_files(path_to_file):\n",
    "    with open(path_to_file) as p:\n",
    "        data = pd.read_json(p, lines=True)\n",
    "    return data\n",
    "\n",
    "#df = read_json_files(filename)\n",
    "df = pd.read_csv(filename, header=None,\n",
    "                 names=['tweet'], index_col=None)#.drop_duplicates(subset='id')\n",
    "\n",
    "df.head()"
   ]
  },
  {
   "cell_type": "code",
   "execution_count": 3,
   "metadata": {
    "collapsed": false,
    "deletable": true,
    "editable": true
   },
   "outputs": [
    {
     "data": {
      "text/html": [
       "<div>\n",
       "<style>\n",
       "    .dataframe thead tr:only-child th {\n",
       "        text-align: right;\n",
       "    }\n",
       "\n",
       "    .dataframe thead th {\n",
       "        text-align: left;\n",
       "    }\n",
       "\n",
       "    .dataframe tbody tr th {\n",
       "        vertical-align: top;\n",
       "    }\n",
       "</style>\n",
       "<table border=\"1\" class=\"dataframe\">\n",
       "  <thead>\n",
       "    <tr style=\"text-align: right;\">\n",
       "      <th></th>\n",
       "      <th>tweet</th>\n",
       "    </tr>\n",
       "  </thead>\n",
       "  <tbody>\n",
       "    <tr>\n",
       "      <th>997565477458243584</th>\n",
       "      <td>@AngeFreddy Pouloulouuuu</td>\n",
       "    </tr>\n",
       "    <tr>\n",
       "      <th>957325640465862656</th>\n",
       "      <td>@R0eil Nan😂</td>\n",
       "    </tr>\n",
       "    <tr>\n",
       "      <th>1006280333573181441</th>\n",
       "      <td>@Coldmindxd LAQUELLE.</td>\n",
       "    </tr>\n",
       "    <tr>\n",
       "      <th>834864840359473157</th>\n",
       "      <td>Je me dis que dans 20 ans, j'ai 40 ans 🤔🤔</td>\n",
       "    </tr>\n",
       "    <tr>\n",
       "      <th>1005911475934912522</th>\n",
       "      <td>Le mieux qu’ils puissent faire ... https://t.c...</td>\n",
       "    </tr>\n",
       "  </tbody>\n",
       "</table>\n",
       "</div>"
      ],
      "text/plain": [
       "                                                                 tweet\n",
       "997565477458243584                            @AngeFreddy Pouloulouuuu\n",
       "957325640465862656                                        @R0eil Nan😂\n",
       "1006280333573181441                              @Coldmindxd LAQUELLE.\n",
       "834864840359473157         Je me dis que dans 20 ans, j'ai 40 ans 🤔🤔\n",
       "1005911475934912522  Le mieux qu’ils puissent faire ... https://t.c..."
      ]
     },
     "execution_count": 3,
     "metadata": {},
     "output_type": "execute_result"
    },
    {
     "name": "stdout",
     "output_type": "stream",
     "text": [
      "@americanflagusa @Philome17321717 Grace au grand Mufti fossoyeur de la Françe https://t.co/vZbOcJ1zwo\n"
     ]
    },
    {
     "data": {
      "text/plain": [
       "(47199, 1)"
      ]
     },
     "execution_count": 3,
     "metadata": {},
     "output_type": "execute_result"
    }
   ],
   "source": [
    "#print(df.tweet[np.random.randint(0,df.shape[0])])\n",
    "#df = df[['id','full_text']].drop_duplicates(subset='id')\n",
    "df.head()\n",
    "print(df.tweet[58])\n",
    "df.shape"
   ]
  },
  {
   "cell_type": "code",
   "execution_count": 4,
   "metadata": {
    "collapsed": false,
    "deletable": true,
    "editable": true
   },
   "outputs": [
    {
     "name": "stdout",
     "output_type": "stream",
     "text": [
      "@MerlinFourier L'année prochaine également\n"
     ]
    },
    {
     "data": {
      "text/plain": [
       "u'l annee prochaine egalement'"
      ]
     },
     "execution_count": 4,
     "metadata": {},
     "output_type": "execute_result"
    }
   ],
   "source": [
    "text=df.tweet[np.random.randint(1,df.shape[0])]\n",
    "print(text)\n",
    "tweet_cleaner(text, my_dict)"
   ]
  },
  {
   "cell_type": "code",
   "execution_count": 5,
   "metadata": {
    "collapsed": false,
    "deletable": true,
    "editable": true
   },
   "outputs": [
    {
     "data": {
      "text/plain": [
       "(47199, 2)"
      ]
     },
     "execution_count": 5,
     "metadata": {},
     "output_type": "execute_result"
    },
    {
     "data": {
      "text/html": [
       "<div>\n",
       "<style>\n",
       "    .dataframe thead tr:only-child th {\n",
       "        text-align: right;\n",
       "    }\n",
       "\n",
       "    .dataframe thead th {\n",
       "        text-align: left;\n",
       "    }\n",
       "\n",
       "    .dataframe tbody tr th {\n",
       "        vertical-align: top;\n",
       "    }\n",
       "</style>\n",
       "<table border=\"1\" class=\"dataframe\">\n",
       "  <thead>\n",
       "    <tr style=\"text-align: right;\">\n",
       "      <th></th>\n",
       "      <th>tweet</th>\n",
       "      <th>clean_tweets</th>\n",
       "    </tr>\n",
       "  </thead>\n",
       "  <tbody>\n",
       "    <tr>\n",
       "      <th>997565477458243584</th>\n",
       "      <td>@AngeFreddy Pouloulouuuu</td>\n",
       "      <td>pouloulouuuu</td>\n",
       "    </tr>\n",
       "    <tr>\n",
       "      <th>957325640465862656</th>\n",
       "      <td>@R0eil Nan😂</td>\n",
       "      <td>nan</td>\n",
       "    </tr>\n",
       "    <tr>\n",
       "      <th>1006280333573181441</th>\n",
       "      <td>@Coldmindxd LAQUELLE.</td>\n",
       "      <td>laquelle</td>\n",
       "    </tr>\n",
       "    <tr>\n",
       "      <th>834864840359473157</th>\n",
       "      <td>Je me dis que dans 20 ans, j'ai 40 ans 🤔🤔</td>\n",
       "      <td>dis ans ans</td>\n",
       "    </tr>\n",
       "    <tr>\n",
       "      <th>1005911475934912522</th>\n",
       "      <td>Le mieux qu’ils puissent faire ... https://t.c...</td>\n",
       "      <td>mieux ils puissent faire</td>\n",
       "    </tr>\n",
       "  </tbody>\n",
       "</table>\n",
       "</div>"
      ],
      "text/plain": [
       "                                                                 tweet  \\\n",
       "997565477458243584                            @AngeFreddy Pouloulouuuu   \n",
       "957325640465862656                                        @R0eil Nan😂   \n",
       "1006280333573181441                              @Coldmindxd LAQUELLE.   \n",
       "834864840359473157         Je me dis que dans 20 ans, j'ai 40 ans 🤔🤔   \n",
       "1005911475934912522  Le mieux qu’ils puissent faire ... https://t.c...   \n",
       "\n",
       "                                 clean_tweets  \n",
       "997565477458243584               pouloulouuuu  \n",
       "957325640465862656                        nan  \n",
       "1006280333573181441                  laquelle  \n",
       "834864840359473157                dis ans ans  \n",
       "1005911475934912522  mieux ils puissent faire  "
      ]
     },
     "execution_count": 5,
     "metadata": {},
     "output_type": "execute_result"
    }
   ],
   "source": [
    "#clean_tweets = [tweet_cleaner(str(tweet), my_dict) for tweet in list(df['full_text'])]\n",
    "\n",
    "df['clean_tweets'] = df.tweet.apply(lambda x:' '.join(remove_stopwords(tokenize(tweet_cleaner(x, my_dict)), generate_stopwords())))\n",
    "\n",
    "#df['clean_tweets'] = clean_tweets\n",
    "df.shape\n",
    "df.head(5)"
   ]
  },
  {
   "cell_type": "code",
   "execution_count": 6,
   "metadata": {
    "collapsed": false,
    "deletable": true,
    "editable": true
   },
   "outputs": [
    {
     "data": {
      "text/plain": [
       "(37272, 2)"
      ]
     },
     "execution_count": 6,
     "metadata": {},
     "output_type": "execute_result"
    }
   ],
   "source": [
    "df = df.drop_duplicates(subset='clean_tweets')\n",
    "df.shape"
   ]
  },
  {
   "cell_type": "code",
   "execution_count": 7,
   "metadata": {
    "collapsed": false,
    "deletable": true,
    "editable": true
   },
   "outputs": [
    {
     "data": {
      "text/plain": [
       "(37205, 2)"
      ]
     },
     "execution_count": 7,
     "metadata": {},
     "output_type": "execute_result"
    }
   ],
   "source": [
    "df['nc'] = [len(t) for t in df.clean_tweets]\n",
    "df = df.drop(df[df.nc <= 2].index).drop('nc', axis=1)\n",
    "df.shape"
   ]
  },
  {
   "cell_type": "markdown",
   "metadata": {},
   "source": [
    "#### 2 load and clean tweets for ML"
   ]
  },
  {
   "cell_type": "code",
   "execution_count": 38,
   "metadata": {
    "collapsed": false
   },
   "outputs": [
    {
     "name": "stdout",
     "output_type": "stream",
     "text": [
      "(1216, 4)\n"
     ]
    }
   ],
   "source": [
    "#tw_data_train = pd.read_csv('tw_data_train.csv')\n",
    "#tw_data_test = pd.read_csv('tw_data_test.csv')\n",
    "#print(tw_data_train.shape)\n",
    "#print(tw_data_test.shape)\n",
    "#ind_train_last = tw_data_train.shape[0]-1\n",
    "\n",
    "tw_data = pd.read_csv('tw_data_labeled.csv')\n",
    "#tw_data = pd.concat([tw_data_train, tw_data_test])\n",
    "\n",
    "tw_data['Texte_clean'] = tw_data.Texte.apply(lambda x:' '.join(remove_stopwords(tokenize(tweet_cleaner(x, my_dict)), generate_stopwords())))\n",
    "tw_data.loc[tw_data.Label=='SH', 'Label']='S'\n",
    "tw_data.loc[tw_data.Label=='S', 'Label']='H'\n",
    "print(tw_data.shape)\n",
    "\n"
   ]
  },
  {
   "cell_type": "code",
   "execution_count": 39,
   "metadata": {
    "collapsed": false
   },
   "outputs": [
    {
     "data": {
      "text/plain": [
       "N    915\n",
       "H    301\n",
       "Name: Label, dtype: int64"
      ]
     },
     "execution_count": 39,
     "metadata": {},
     "output_type": "execute_result"
    },
    {
     "data": {
      "text/html": [
       "<div>\n",
       "<style>\n",
       "    .dataframe thead tr:only-child th {\n",
       "        text-align: right;\n",
       "    }\n",
       "\n",
       "    .dataframe thead th {\n",
       "        text-align: left;\n",
       "    }\n",
       "\n",
       "    .dataframe tbody tr th {\n",
       "        vertical-align: top;\n",
       "    }\n",
       "</style>\n",
       "<table border=\"1\" class=\"dataframe\">\n",
       "  <thead>\n",
       "    <tr style=\"text-align: right;\">\n",
       "      <th></th>\n",
       "      <th>ID</th>\n",
       "      <th>Label</th>\n",
       "      <th>Texte</th>\n",
       "      <th>Texte_clean</th>\n",
       "    </tr>\n",
       "  </thead>\n",
       "  <tbody>\n",
       "    <tr>\n",
       "      <th>0</th>\n",
       "      <td>998206424189751296</td>\n",
       "      <td>N</td>\n",
       "      <td>On m’avait sorti (pour de vrai) « on est tous ...</td>\n",
       "      <td>sorti vrai tous egaux plus parle racisme plus ...</td>\n",
       "    </tr>\n",
       "    <tr>\n",
       "      <th>1</th>\n",
       "      <td>997896508384169984</td>\n",
       "      <td>N</td>\n",
       "      <td>VIVE L AMOUR ❤VIVE LA PAIX\\n❤❤❤❤❤❤❤❤❤❤❤❤👏👍\\n...</td>\n",
       "      <td>vive amour vive paix entre les peuples monde s...</td>\n",
       "    </tr>\n",
       "    <tr>\n",
       "      <th>2</th>\n",
       "      <td>31</td>\n",
       "      <td>H</td>\n",
       "      <td>J'me rend compte à quel point ya trop d'noir d...</td>\n",
       "      <td>rend compte quel point ya trop noir tl enfait ...</td>\n",
       "    </tr>\n",
       "    <tr>\n",
       "      <th>3</th>\n",
       "      <td>998519485467414529</td>\n",
       "      <td>H</td>\n",
       "      <td>@KrypsKarmaKid Tu traites qui de salope la seu...</td>\n",
       "      <td>traites salope seule salope connai mere pute s...</td>\n",
       "    </tr>\n",
       "    <tr>\n",
       "      <th>4</th>\n",
       "      <td>997799245464899584</td>\n",
       "      <td>H</td>\n",
       "      <td>Voilà à quoi tu dois me servir sale pute ! Ta ...</td>\n",
       "      <td>voila quoi dois servir sale pute seule utilite...</td>\n",
       "    </tr>\n",
       "  </tbody>\n",
       "</table>\n",
       "</div>"
      ],
      "text/plain": [
       "                   ID Label  \\\n",
       "0  998206424189751296     N   \n",
       "1  997896508384169984     N   \n",
       "2                  31     H   \n",
       "3  998519485467414529     H   \n",
       "4  997799245464899584     H   \n",
       "\n",
       "                                               Texte  \\\n",
       "0  On m’avait sorti (pour de vrai) « on est tous ...   \n",
       "1  VIVE L AMOUR ❤VIVE LA PAIX\\n❤❤❤❤❤❤❤❤❤❤❤❤👏👍\\n...   \n",
       "2  J'me rend compte à quel point ya trop d'noir d...   \n",
       "3  @KrypsKarmaKid Tu traites qui de salope la seu...   \n",
       "4  Voilà à quoi tu dois me servir sale pute ! Ta ...   \n",
       "\n",
       "                                         Texte_clean  \n",
       "0  sorti vrai tous egaux plus parle racisme plus ...  \n",
       "1  vive amour vive paix entre les peuples monde s...  \n",
       "2  rend compte quel point ya trop noir tl enfait ...  \n",
       "3  traites salope seule salope connai mere pute s...  \n",
       "4  voila quoi dois servir sale pute seule utilite...  "
      ]
     },
     "execution_count": 39,
     "metadata": {},
     "output_type": "execute_result"
    }
   ],
   "source": [
    "tw_data.Label.value_counts()\n",
    "tw_data.head(5)"
   ]
  },
  {
   "cell_type": "markdown",
   "metadata": {
    "deletable": true,
    "editable": true
   },
   "source": [
    "# 2 Word2Vec representation"
   ]
  },
  {
   "cell_type": "code",
   "execution_count": 10,
   "metadata": {
    "collapsed": false,
    "deletable": true,
    "editable": true
   },
   "outputs": [
    {
     "name": "stdout",
     "output_type": "stream",
     "text": [
      "[[u'pouloulouuuu'], [u'nan'], [u'laquelle']]\n"
     ]
    }
   ],
   "source": [
    "# list of list of words\n",
    "documents = [tokenize(tweet) for tweet in list(df['clean_tweets'])]\n",
    "#for tweet in list(df['clean_tweets']):\n",
    "#    documents.append(tweet.split())\n",
    "\n",
    "print(documents[:3])"
   ]
  },
  {
   "cell_type": "code",
   "execution_count": 11,
   "metadata": {
    "collapsed": false,
    "deletable": true,
    "editable": true
   },
   "outputs": [
    {
     "data": {
      "text/plain": [
       "(3137546, 3303550)"
      ]
     },
     "execution_count": 11,
     "metadata": {},
     "output_type": "execute_result"
    }
   ],
   "source": [
    "model = gensim.models.Word2Vec(documents, size=300, window=10, min_count=1, workers=10)\n",
    "model.train(documents, total_examples=len(documents), epochs=10)"
   ]
  },
  {
   "cell_type": "code",
   "execution_count": 12,
   "metadata": {
    "collapsed": false,
    "deletable": true,
    "editable": true
   },
   "outputs": [
    {
     "name": "stdout",
     "output_type": "stream",
     "text": [
      "('mots proches de ', 'put')\n"
     ]
    },
    {
     "data": {
      "text/plain": [
       "[(u'toko', 0.9964182376861572),\n",
       " (u'odio', 0.9961084127426147),\n",
       " (u'cabo', 0.9960809946060181),\n",
       " (u'marido', 0.9957008957862854),\n",
       " (u'hen', 0.9955457448959351)]"
      ]
     },
     "execution_count": 12,
     "metadata": {},
     "output_type": "execute_result"
    }
   ],
   "source": [
    "w = \"put\"\n",
    "print(\"mots proches de \", w)\n",
    "model.wv.most_similar(positive=w, topn=5)"
   ]
  },
  {
   "cell_type": "markdown",
   "metadata": {
    "deletable": true,
    "editable": true
   },
   "source": [
    "# 3 Word2Vec features"
   ]
  },
  {
   "cell_type": "code",
   "execution_count": 13,
   "metadata": {
    "collapsed": false,
    "deletable": true,
    "editable": true
   },
   "outputs": [],
   "source": [
    "# dictionary mapping word --> 150-dimensional vector \n",
    "w2v = dict(zip(model.wv.index2word, model.wv.syn0))"
   ]
  },
  {
   "cell_type": "code",
   "execution_count": 40,
   "metadata": {
    "collapsed": false,
    "deletable": true,
    "editable": true
   },
   "outputs": [
    {
     "name": "stdout",
     "output_type": "stream",
     "text": [
      "7.41099691243\n"
     ]
    },
    {
     "data": {
      "text/plain": [
       "<help_dicrah_functions.TfidfEmbeddingVectorizer at 0x12f6d71d0>"
      ]
     },
     "execution_count": 40,
     "metadata": {},
     "output_type": "execute_result"
    }
   ],
   "source": [
    "my_vectorizer = TfidfEmbeddingVectorizer(w2v)\n",
    "\n",
    "my_vectorizer.fit(tw_data.Texte_clean)"
   ]
  },
  {
   "cell_type": "code",
   "execution_count": 41,
   "metadata": {
    "collapsed": false,
    "deletable": true,
    "editable": true
   },
   "outputs": [
    {
     "data": {
      "text/plain": [
       "(1216, 300)"
      ]
     },
     "execution_count": 41,
     "metadata": {},
     "output_type": "execute_result"
    }
   ],
   "source": [
    "features = my_vectorizer.transform(tw_data.Texte_clean)\n",
    "features.shape"
   ]
  },
  {
   "cell_type": "code",
   "execution_count": 16,
   "metadata": {
    "collapsed": true
   },
   "outputs": [],
   "source": [
    "# Tf-Idf features"
   ]
  },
  {
   "cell_type": "code",
   "execution_count": 42,
   "metadata": {
    "collapsed": true
   },
   "outputs": [],
   "source": [
    "features_tfidf, words_freq, vocab = get_tfidf_frequencies(tw_data.Texte)\n"
   ]
  },
  {
   "cell_type": "code",
   "execution_count": 43,
   "metadata": {
    "collapsed": false
   },
   "outputs": [
    {
     "data": {
      "text/plain": [
       "(1216, 8)"
      ]
     },
     "execution_count": 43,
     "metadata": {},
     "output_type": "execute_result"
    }
   ],
   "source": [
    "tw_data = add_lexical_features(tw_data)\n",
    "\n",
    "lex_cols = ['nbr_characters','nbr_words', 'nbr_ats', 'nbr_hashtags', 'nbr_urls',\n",
    "            'nbr_letters','nbr_caps', 'nbr_fancy' ]\n",
    "lex_features = tw_data.as_matrix(columns=lex_cols)\n",
    "lex_features.shape\n"
   ]
  },
  {
   "cell_type": "code",
   "execution_count": 44,
   "metadata": {
    "collapsed": false
   },
   "outputs": [
    {
     "data": {
      "text/plain": [
       "(1216, 308)"
      ]
     },
     "execution_count": 44,
     "metadata": {},
     "output_type": "execute_result"
    }
   ],
   "source": [
    "M = np.concatenate([features,lex_features],axis=1)\n",
    "M.shape"
   ]
  },
  {
   "cell_type": "code",
   "execution_count": 45,
   "metadata": {
    "collapsed": false
   },
   "outputs": [
    {
     "data": {
      "text/plain": [
       "(1216, 917)"
      ]
     },
     "execution_count": 45,
     "metadata": {},
     "output_type": "execute_result"
    }
   ],
   "source": [
    "M1 = np.concatenate([features_tfidf,lex_features],axis=1)\n",
    "M1.shape"
   ]
  },
  {
   "cell_type": "markdown",
   "metadata": {
    "deletable": true,
    "editable": true
   },
   "source": [
    "# ML"
   ]
  },
  {
   "cell_type": "code",
   "execution_count": 21,
   "metadata": {
    "collapsed": true,
    "deletable": true,
    "editable": true
   },
   "outputs": [],
   "source": [
    "from sklearn.model_selection import train_test_split\n",
    "from sklearn.model_selection import StratifiedKFold, GridSearchCV\n",
    "from sklearn.pipeline import Pipeline\n",
    "from sklearn.linear_model import LogisticRegression\n",
    "from sklearn.feature_selection import SelectFromModel\n",
    "from sklearn.metrics import classification_report\n",
    "from sklearn import preprocessing\n",
    "from sklearn import svm, model_selection\n",
    "from sklearn.model_selection import train_test_split\n",
    "\n"
   ]
  },
  {
   "cell_type": "code",
   "execution_count": 46,
   "metadata": {
    "collapsed": false,
    "deletable": true,
    "editable": true
   },
   "outputs": [
    {
     "data": {
      "text/plain": [
       "{'H': 0, 'N': 1}"
      ]
     },
     "execution_count": 46,
     "metadata": {},
     "output_type": "execute_result"
    },
    {
     "data": {
      "text/plain": [
       "1    915\n",
       "0    301\n",
       "Name: Label_id, dtype: int64"
      ]
     },
     "execution_count": 46,
     "metadata": {},
     "output_type": "execute_result"
    },
    {
     "data": {
      "text/html": [
       "<div>\n",
       "<style>\n",
       "    .dataframe thead tr:only-child th {\n",
       "        text-align: right;\n",
       "    }\n",
       "\n",
       "    .dataframe thead th {\n",
       "        text-align: left;\n",
       "    }\n",
       "\n",
       "    .dataframe tbody tr th {\n",
       "        vertical-align: top;\n",
       "    }\n",
       "</style>\n",
       "<table border=\"1\" class=\"dataframe\">\n",
       "  <thead>\n",
       "    <tr style=\"text-align: right;\">\n",
       "      <th></th>\n",
       "      <th>ID</th>\n",
       "      <th>Label</th>\n",
       "      <th>Texte</th>\n",
       "      <th>Texte_clean</th>\n",
       "      <th>nbr_characters</th>\n",
       "      <th>nbr_words</th>\n",
       "      <th>nbr_ats</th>\n",
       "      <th>nbr_hashtags</th>\n",
       "      <th>nbr_urls</th>\n",
       "      <th>nbr_letters</th>\n",
       "      <th>nbr_caps</th>\n",
       "      <th>nbr_fancy</th>\n",
       "      <th>Label_id</th>\n",
       "    </tr>\n",
       "  </thead>\n",
       "  <tbody>\n",
       "    <tr>\n",
       "      <th>0</th>\n",
       "      <td>998206424189751296</td>\n",
       "      <td>N</td>\n",
       "      <td>On m’avait sorti (pour de vrai) « on est tous ...</td>\n",
       "      <td>sorti vrai tous egaux plus parle racisme plus ...</td>\n",
       "      <td>149</td>\n",
       "      <td>22</td>\n",
       "      <td>0</td>\n",
       "      <td>0</td>\n",
       "      <td>1</td>\n",
       "      <td>104</td>\n",
       "      <td>2</td>\n",
       "      <td>1</td>\n",
       "      <td>1</td>\n",
       "    </tr>\n",
       "    <tr>\n",
       "      <th>1</th>\n",
       "      <td>997896508384169984</td>\n",
       "      <td>N</td>\n",
       "      <td>VIVE L AMOUR ❤VIVE LA PAIX\\n❤❤❤❤❤❤❤❤❤❤❤❤👏👍\\n...</td>\n",
       "      <td>vive amour vive paix entre les peuples monde s...</td>\n",
       "      <td>320</td>\n",
       "      <td>34</td>\n",
       "      <td>0</td>\n",
       "      <td>0</td>\n",
       "      <td>1</td>\n",
       "      <td>154</td>\n",
       "      <td>143</td>\n",
       "      <td>0</td>\n",
       "      <td>1</td>\n",
       "    </tr>\n",
       "    <tr>\n",
       "      <th>2</th>\n",
       "      <td>31</td>\n",
       "      <td>H</td>\n",
       "      <td>J'me rend compte à quel point ya trop d'noir d...</td>\n",
       "      <td>rend compte quel point ya trop noir tl enfait ...</td>\n",
       "      <td>103</td>\n",
       "      <td>20</td>\n",
       "      <td>0</td>\n",
       "      <td>0</td>\n",
       "      <td>0</td>\n",
       "      <td>76</td>\n",
       "      <td>4</td>\n",
       "      <td>0</td>\n",
       "      <td>0</td>\n",
       "    </tr>\n",
       "    <tr>\n",
       "      <th>3</th>\n",
       "      <td>998519485467414529</td>\n",
       "      <td>H</td>\n",
       "      <td>@KrypsKarmaKid Tu traites qui de salope la seu...</td>\n",
       "      <td>traites salope seule salope connai mere pute s...</td>\n",
       "      <td>151</td>\n",
       "      <td>27</td>\n",
       "      <td>3</td>\n",
       "      <td>0</td>\n",
       "      <td>0</td>\n",
       "      <td>117</td>\n",
       "      <td>4</td>\n",
       "      <td>0</td>\n",
       "      <td>0</td>\n",
       "    </tr>\n",
       "    <tr>\n",
       "      <th>4</th>\n",
       "      <td>997799245464899584</td>\n",
       "      <td>H</td>\n",
       "      <td>Voilà à quoi tu dois me servir sale pute ! Ta ...</td>\n",
       "      <td>voila quoi dois servir sale pute seule utilite...</td>\n",
       "      <td>195</td>\n",
       "      <td>35</td>\n",
       "      <td>0</td>\n",
       "      <td>0</td>\n",
       "      <td>1</td>\n",
       "      <td>135</td>\n",
       "      <td>6</td>\n",
       "      <td>0</td>\n",
       "      <td>0</td>\n",
       "    </tr>\n",
       "  </tbody>\n",
       "</table>\n",
       "</div>"
      ],
      "text/plain": [
       "                   ID Label  \\\n",
       "0  998206424189751296     N   \n",
       "1  997896508384169984     N   \n",
       "2                  31     H   \n",
       "3  998519485467414529     H   \n",
       "4  997799245464899584     H   \n",
       "\n",
       "                                               Texte  \\\n",
       "0  On m’avait sorti (pour de vrai) « on est tous ...   \n",
       "1  VIVE L AMOUR ❤VIVE LA PAIX\\n❤❤❤❤❤❤❤❤❤❤❤❤👏👍\\n...   \n",
       "2  J'me rend compte à quel point ya trop d'noir d...   \n",
       "3  @KrypsKarmaKid Tu traites qui de salope la seu...   \n",
       "4  Voilà à quoi tu dois me servir sale pute ! Ta ...   \n",
       "\n",
       "                                         Texte_clean  nbr_characters  \\\n",
       "0  sorti vrai tous egaux plus parle racisme plus ...             149   \n",
       "1  vive amour vive paix entre les peuples monde s...             320   \n",
       "2  rend compte quel point ya trop noir tl enfait ...             103   \n",
       "3  traites salope seule salope connai mere pute s...             151   \n",
       "4  voila quoi dois servir sale pute seule utilite...             195   \n",
       "\n",
       "   nbr_words  nbr_ats  nbr_hashtags  nbr_urls  nbr_letters  nbr_caps  \\\n",
       "0         22        0             0         1          104         2   \n",
       "1         34        0             0         1          154       143   \n",
       "2         20        0             0         0           76         4   \n",
       "3         27        3             0         0          117         4   \n",
       "4         35        0             0         1          135         6   \n",
       "\n",
       "   nbr_fancy  Label_id  \n",
       "0          1         1  \n",
       "1          0         1  \n",
       "2          0         0  \n",
       "3          0         0  \n",
       "4          0         0  "
      ]
     },
     "execution_count": 46,
     "metadata": {},
     "output_type": "execute_result"
    }
   ],
   "source": [
    "tw_data['Label']=tw_data['Label'].astype('category')\n",
    "tw_data['Label_id']=tw_data['Label'].cat.codes\n",
    "\n",
    "label_id_df_fr = tw_data[['Label', 'Label_id']].drop_duplicates().sort_values('Label_id')\n",
    "label_to_id_fr = dict(label_id_df_fr.values)\n",
    "\n",
    "y = tw_data['Label_id']\n",
    "\n",
    "label_to_id_fr\n",
    "\n",
    "tw_data.Label_id.value_counts()\n",
    "tw_data.head()"
   ]
  },
  {
   "cell_type": "code",
   "execution_count": 23,
   "metadata": {
    "collapsed": false,
    "deletable": true,
    "editable": true
   },
   "outputs": [],
   "source": [
    "\n",
    "#X_train = features[:ind_train_last, :]\n",
    "#X_test = features[ind_train_last+1:, :]\n",
    "\n",
    "#y_train = y.as_matrix()[:ind_train_last]\n",
    "#y_test = y.as_matrix()[ind_train_last+1:]\n",
    "\n",
    "#y_train_df = y[:ind_train_last]\n",
    "#y_test_df = y[ind_train_last+1:]\n"
   ]
  },
  {
   "cell_type": "code",
   "execution_count": 47,
   "metadata": {
    "collapsed": false
   },
   "outputs": [],
   "source": [
    "X_train, X_test, y_train, y_test = train_test_split(features, y.as_matrix() ,random_state=42, test_size=0.15)\n",
    "\n",
    "X_train_tfidf, X_test_tfidf, y_train_tfidf, y_test_tfidf = train_test_split(features_tfidf, y.as_matrix() ,random_state=42, test_size=0.15)\n",
    "\n"
   ]
  },
  {
   "cell_type": "code",
   "execution_count": 48,
   "metadata": {
    "collapsed": false,
    "deletable": true,
    "editable": true
   },
   "outputs": [
    {
     "data": {
      "text/plain": [
       "LogisticRegression(C=1.0, class_weight=None, dual=False, fit_intercept=True,\n",
       "          intercept_scaling=1, max_iter=100, multi_class='ovr', n_jobs=1,\n",
       "          penalty='l2', random_state=None, solver='liblinear', tol=0.0001,\n",
       "          verbose=0, warm_start=False)"
      ]
     },
     "execution_count": 48,
     "metadata": {},
     "output_type": "execute_result"
    },
    {
     "data": {
      "text/plain": [
       "LogisticRegression(C=1.0, class_weight=None, dual=False, fit_intercept=True,\n",
       "          intercept_scaling=1, max_iter=100, multi_class='ovr', n_jobs=1,\n",
       "          penalty='l2', random_state=None, solver='liblinear', tol=0.0001,\n",
       "          verbose=0, warm_start=False)"
      ]
     },
     "execution_count": 48,
     "metadata": {},
     "output_type": "execute_result"
    }
   ],
   "source": [
    "from sklearn import linear_model\n",
    "\n",
    "lr_model = linear_model.LogisticRegression(C=1.)\n",
    "lr_model_tfidf = linear_model.LogisticRegression(C=1.)\n",
    "\n",
    "\n",
    "\n",
    "lr_model.fit(X_train, y_train)\n",
    "lr_model_tfidf.fit(X_train_tfidf, y_train_tfidf)"
   ]
  },
  {
   "cell_type": "code",
   "execution_count": 49,
   "metadata": {
    "collapsed": false,
    "deletable": true,
    "editable": true
   },
   "outputs": [
    {
     "name": "stdout",
     "output_type": "stream",
     "text": [
      "             precision    recall  f1-score   support\n",
      "\n",
      "          0       0.83      0.63      0.72        38\n",
      "          1       0.91      0.97      0.94       145\n",
      "\n",
      "avg / total       0.89      0.90      0.89       183\n",
      "\n"
     ]
    }
   ],
   "source": [
    "# Predictions with word2vec\n",
    "y_preds_lr = lr_model.predict(X_test)\n",
    "print(classification_report( y_test, y_preds_lr ))"
   ]
  },
  {
   "cell_type": "code",
   "execution_count": 50,
   "metadata": {
    "collapsed": false
   },
   "outputs": [
    {
     "data": {
      "image/png": "[encoded data removed]",
      "text/plain": [
       "<matplotlib.figure.Figure at 0x12e80e850>"
      ]
     },
     "metadata": {},
     "output_type": "display_data"
    },
    {
     "data": {
      "text/plain": [
       "array([[ 24,  14],\n",
       "       [  5, 140]])"
      ]
     },
     "execution_count": 50,
     "metadata": {},
     "output_type": "execute_result"
    }
   ],
   "source": [
    "print_cm(y_test, y_preds_lr , ['H','N'])"
   ]
  },
  {
   "cell_type": "code",
   "execution_count": 51,
   "metadata": {
    "collapsed": false
   },
   "outputs": [
    {
     "name": "stdout",
     "output_type": "stream",
     "text": [
      "             precision    recall  f1-score   support\n",
      "\n",
      "          0       0.65      0.74      0.69        38\n",
      "          1       0.93      0.90      0.91       145\n",
      "\n",
      "avg / total       0.87      0.86      0.87       183\n",
      "\n"
     ]
    }
   ],
   "source": [
    "# Predictions with tfidf\n",
    "\n",
    "y_preds_lr_tfidf = lr_model_tfidf.predict(X_test_tfidf)\n",
    "print(classification_report( y_test_tfidf, y_preds_lr_tfidf ))"
   ]
  },
  {
   "cell_type": "code",
   "execution_count": 52,
   "metadata": {
    "collapsed": false
   },
   "outputs": [
    {
     "data": {
      "image/png": "[encoded data removed]",
      "text/plain": [
       "<matplotlib.figure.Figure at 0x12e74fed0>"
      ]
     },
     "metadata": {},
     "output_type": "display_data"
    },
    {
     "data": {
      "text/plain": [
       "array([[ 28,  10],\n",
       "       [ 15, 130]])"
      ]
     },
     "execution_count": 52,
     "metadata": {},
     "output_type": "execute_result"
    }
   ],
   "source": [
    "print_cm(y_test, y_preds_lr_tfidf , ['H','N'])"
   ]
  },
  {
   "cell_type": "markdown",
   "metadata": {},
   "source": [
    "# Find  misclassified tweets"
   ]
  },
  {
   "cell_type": "code",
   "execution_count": 53,
   "metadata": {
    "collapsed": false
   },
   "outputs": [],
   "source": [
    "df_y = pd.DataFrame(y_test, columns=['actual'])\n",
    "\n",
    "df_y['pred'] = y_preds_lr\n",
    "err_df = df_y[df_y['pred']!=df_y['actual']]\n",
    "indexes = err_df.index\n",
    "\n",
    "\n",
    "df_wrong = pd.concat([tw_data.iloc[indexes,:],err_df], axis=1)\n"
   ]
  },
  {
   "cell_type": "code",
   "execution_count": 36,
   "metadata": {
    "collapsed": false
   },
   "outputs": [
    {
     "data": {
      "text/plain": [
       "{'H': 0, 'N': 1}"
      ]
     },
     "execution_count": 36,
     "metadata": {},
     "output_type": "execute_result"
    }
   ],
   "source": [
    "# Reminder: categories. The problem is when Predicted=1 and Actual=0\n",
    "label_to_id_fr"
   ]
  },
  {
   "cell_type": "code",
   "execution_count": 54,
   "metadata": {
    "collapsed": false
   },
   "outputs": [
    {
     "name": "stdout",
     "output_type": "stream",
     "text": [
      "Ça me dégoute putain ... Serieux on voit au moins 4/5 videos comme ça par semaines j'en peux plus c'est abusé..\n",
      "\n",
      "Toujours des femmes blanches en plus ces chiennes de raciste la https://t.co/1hp2jl8BmQ\n",
      "Predicted: N , Actual: H \n",
      "\n",
      "Qu'ils crevent. Rien à foutre de tes putain de refugies.\n",
      "Predicted: N , Actual: H \n",
      "\n",
      "@RMCsport n'oubliez pas que Lyon n'est pas encore qualifié en ldc....en attente d'une décision de l'UEFA pour propos raciste proche nazi contre le cska Moscou...vous n'en parlez pas??\n",
      "Predicted: N , Actual: H \n",
      "\n",
      "@PhildjackLamare @davidperrotin @Le_GrandR Oui c'est vrai que c'est terrible le racisme chez les blancs et gérants de grands restaurants\n",
      "Faut vrmt se méfier de ces gens-là en effet 🙂\n",
      "Predicted: N , Actual: H \n",
      "\n",
      "@Bob_lePlombier @Caroline76966 @Ex_Panthera @Yaannoou @dali89z @RebelHelene @HenriTudors @Patosoleil @_JeanDorsans_ @Maraine_Lapine @alexiscorbiere @FredTolosa31 Même réponse à tous les nazi de ton espèce https://t.co/PjezkIdWwE\n",
      "Predicted: N , Actual: H \n",
      "\n",
      "@DiiaraGalsen Bon j’abandonne !\n",
      "Je pense k comme on dit plus on est nourri par de l’argent sale plus on est bête et conne .\n",
      "Allez Dieu nous départira et Lui il est juste .\n",
      "Sachez juste que je ne retire aucuns des mots que je balançais et je le répéterais jusqu’à la fin du monde\n",
      "Predicted: N , Actual: H \n",
      "\n",
      "Y’en a marre de laisser ces fils p*** de lache de terroristes judaïste nazi. Le monde les regarde et les laisse mourrir sans que personne réagisse. #honte aux gouvernements du monde https://t.co/QaUl2uEHoj\n",
      "Predicted: N , Actual: H \n",
      "\n",
      "C’est drôle le nombre de perso qui essaient de te faire taire . La vérité fait tjrs mal et si ça ne l’était ils ne seraient pas aussi révolté déjà Hummm vous voulez qu’on parle de l’esclavage  moderne! vous brûlez les gens à l’acide et puis vous venez parlé ici 😤 bz vos morts ! https://t.co/MDgiVZl4V8\n",
      "Predicted: N , Actual: H \n",
      "\n",
      "@Ftg_rtz O ba oui c’est le ramadan fais attention à toi sale pd et ça t’éduquer sur les choses que tu coco pas Pendant que certains sont en L d’autres savent pas écrire et sont au chômage on se revoit quand tu bosseras au mcdo enculé\n",
      "Predicted: N , Actual: H \n",
      "\n",
      "@valerieboyer13 Parmi  Supplétifs du crif il y a des idiots utiles du sionisme qui ne manquent pas d imagination ... à chacun sa part de naïveté ou de soumission ...à chacun sa terre médiatique  promise !  L Islamophobie est le  racisme déguisé sous couvert de lutte contre le terrorisme ...\n",
      "Predicted: N , Actual: H \n",
      "\n",
      "#Coupons on Loopr #marijuana party bus! CODES: TOUR72, TOUR24, TOUR3 https://t.co/dr3WExsM0H #cannabis #weed #Colorado #stoner #party #pot https://t.co/35vzV3G3qd\n",
      "Predicted: N , Actual: H \n",
      "\n",
      "@grelier79601609 @Eltoto16808411 @DeBommeler @LHACAPABLE @LFPfr Espèce de merde va tu sent aussi mauvais que tes confreres de consanguins sur ton île et ne croit plus au respect corse stp depuis votre fuite en Afrique noirs et la fin de vos soit disant capo vous n êtes plus rien qu une bande d esclaves aux ordres du continent sale chiens 😘\n",
      "Predicted: N , Actual: H \n",
      "\n",
      "Je voudrais que tout le monde fasse une liste noire. Une liste pour les condamnés à l'Enfer, et pense très fort à Dieu, pour les pardonner un jour en l'écrivant. Chaque personne que vous haïssez le plus, vous le mettez jusqu'au 10e, après, vous arrêtez.  Voilà, raciste satisfait?\n",
      "Predicted: N , Actual: H \n",
      "\n",
      "@BFMTV La Catalogne vit sous l’influence d’une mafia xénophobe raciste dont ses origines remontent à l'assassin #LluisCompanys la présence est évidente dans la police, l’éducation et la télévision les #separatas ne sont des victimes; les victimes sont les catalans constitutionnalistes. https://t.co/g4chVxqjdJ\n",
      "Predicted: N , Actual: H \n",
      "\n"
     ]
    }
   ],
   "source": [
    "for index, row in df_wrong.iterrows():\n",
    "    if row['pred']==1 and  row['actual']==0:\n",
    "        print(row['Texte'])\n",
    "        print('Predicted: %s , Actual: %s \\n' %( 'N', 'H'))"
   ]
  },
  {
   "cell_type": "code",
   "execution_count": null,
   "metadata": {
    "collapsed": true
   },
   "outputs": [],
   "source": []
  },
  {
   "cell_type": "markdown",
   "metadata": {},
   "source": [
    "#  Visualise 2-dim PCA"
   ]
  },
  {
   "cell_type": "code",
   "execution_count": 56,
   "metadata": {
    "collapsed": false,
    "deletable": true,
    "editable": true
   },
   "outputs": [
    {
     "data": {
      "text/plain": [
       "(1033, 2)"
      ]
     },
     "execution_count": 56,
     "metadata": {},
     "output_type": "execute_result"
    },
    {
     "data": {
      "text/plain": [
       "(1033,)"
      ]
     },
     "execution_count": 56,
     "metadata": {},
     "output_type": "execute_result"
    }
   ],
   "source": [
    "from sklearn.decomposition import PCA, RandomizedPCA\n",
    "\n",
    "n_components = 2\n",
    "pca = PCA(n_components=n_components, whiten=True).fit(X_train)\n",
    "\n",
    "X_train_pca = pca.transform(X_train)\n",
    "X_test_pca = pca.transform(X_test)\n",
    "\n",
    "X_train_pca.shape\n",
    "y_train.shape"
   ]
  },
  {
   "cell_type": "code",
   "execution_count": 58,
   "metadata": {
    "collapsed": false,
    "deletable": true,
    "editable": true
   },
   "outputs": [
    {
     "data": {
      "text/html": [
       "<div>\n",
       "<style>\n",
       "    .dataframe thead tr:only-child th {\n",
       "        text-align: right;\n",
       "    }\n",
       "\n",
       "    .dataframe thead th {\n",
       "        text-align: left;\n",
       "    }\n",
       "\n",
       "    .dataframe tbody tr th {\n",
       "        vertical-align: top;\n",
       "    }\n",
       "</style>\n",
       "<table border=\"1\" class=\"dataframe\">\n",
       "  <thead>\n",
       "    <tr style=\"text-align: right;\">\n",
       "      <th></th>\n",
       "      <th>P1</th>\n",
       "      <th>P2</th>\n",
       "      <th>Label</th>\n",
       "    </tr>\n",
       "  </thead>\n",
       "  <tbody>\n",
       "    <tr>\n",
       "      <th>0</th>\n",
       "      <td>-2.286101</td>\n",
       "      <td>-0.294705</td>\n",
       "      <td>1.0</td>\n",
       "    </tr>\n",
       "    <tr>\n",
       "      <th>1</th>\n",
       "      <td>0.948136</td>\n",
       "      <td>0.238164</td>\n",
       "      <td>1.0</td>\n",
       "    </tr>\n",
       "    <tr>\n",
       "      <th>2</th>\n",
       "      <td>0.553251</td>\n",
       "      <td>-0.522335</td>\n",
       "      <td>1.0</td>\n",
       "    </tr>\n",
       "    <tr>\n",
       "      <th>3</th>\n",
       "      <td>-1.031042</td>\n",
       "      <td>-0.512555</td>\n",
       "      <td>1.0</td>\n",
       "    </tr>\n",
       "    <tr>\n",
       "      <th>4</th>\n",
       "      <td>-0.071920</td>\n",
       "      <td>1.433256</td>\n",
       "      <td>1.0</td>\n",
       "    </tr>\n",
       "  </tbody>\n",
       "</table>\n",
       "</div>"
      ],
      "text/plain": [
       "         P1        P2  Label\n",
       "0 -2.286101 -0.294705    1.0\n",
       "1  0.948136  0.238164    1.0\n",
       "2  0.553251 -0.522335    1.0\n",
       "3 -1.031042 -0.512555    1.0\n",
       "4 -0.071920  1.433256    1.0"
      ]
     },
     "execution_count": 58,
     "metadata": {},
     "output_type": "execute_result"
    }
   ],
   "source": [
    "tw_data_pca = pd.DataFrame(data=np.append(X_train_pca, y_train.reshape(y_train.shape[0],1), axis=1), columns=['P1','P2','Label'])\n",
    "\n",
    "tw_data_pca.head(5)"
   ]
  },
  {
   "cell_type": "code",
   "execution_count": 59,
   "metadata": {
    "collapsed": false,
    "deletable": true,
    "editable": true
   },
   "outputs": [
    {
     "data": {
      "text/plain": [
       "<seaborn.axisgrid.FacetGrid at 0x12f74d7d0>"
      ]
     },
     "execution_count": 59,
     "metadata": {},
     "output_type": "execute_result"
    },
    {
     "data": {
      "image/png": "[encoded data removed]",
      "text/plain": [
       "<matplotlib.figure.Figure at 0x12f74d4d0>"
      ]
     },
     "metadata": {},
     "output_type": "display_data"
    }
   ],
   "source": [
    "\n",
    "sns.lmplot(x=\"P1\", y=\"P2\", data=tw_data_pca, fit_reg=False, hue='Label', legend=True, markers=[\"o\", \"x\"], palette=\"Set2\")\n",
    "\n"
   ]
  },
  {
   "cell_type": "code",
   "execution_count": null,
   "metadata": {
    "collapsed": true
   },
   "outputs": [],
   "source": []
  }
 ],
 "metadata": {
  "kernelspec": {
   "display_name": "Python 2",
   "language": "python",
   "name": "python2"
  },
  "language_info": {
   "codemirror_mode": {
    "name": "ipython",
    "version": 2
   },
   "file_extension": ".py",
   "mimetype": "text/x-python",
   "name": "python",
   "nbconvert_exporter": "python",
   "pygments_lexer": "ipython2",
   "version": "2.7.13"
  }
 },
 "nbformat": 4,
 "nbformat_minor": 2
}
