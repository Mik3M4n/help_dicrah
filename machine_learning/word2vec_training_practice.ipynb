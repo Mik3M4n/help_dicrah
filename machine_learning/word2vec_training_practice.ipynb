{
 "cells": [
  {
   "cell_type": "code",
   "execution_count": 1,
   "metadata": {
    "collapsed": false,
    "deletable": true,
    "editable": true
   },
   "outputs": [],
   "source": [
    "# imports needed\n",
    "import gensim \n",
    "import pandas as pd\n",
    "import numpy as np\n",
    "import random\n",
    "import unidecode\n",
    "import re\n",
    "import nltk\n",
    "from nltk.tokenize import WordPunctTokenizer\n",
    "from nltk.tokenize.regexp import RegexpTokenizer\n",
    "from sklearn.feature_extraction.text import TfidfVectorizer\n",
    "from bs4 import BeautifulSoup\n",
    "from  nltk.stem.snowball import FrenchStemmer, EnglishStemmer\n",
    "from collections import defaultdict\n",
    "import matplotlib.pyplot as plt\n",
    "%matplotlib inline\n",
    "import seaborn as sns\n",
    "from help_dicrah_functions import *\n",
    "from __future__ import division\n",
    "from sklearn.decomposition import PCA, RandomizedPCA\n",
    "\n",
    "\n",
    "\n",
    "import warnings\n",
    "warnings.filterwarnings('ignore')\n",
    "from IPython.core.interactiveshell import InteractiveShell\n",
    "InteractiveShell.ast_node_interactivity = \"all\"\n"
   ]
  },
  {
   "cell_type": "markdown",
   "metadata": {},
   "source": [
    "### Note: all the functions that we wrote are in help_dicrah_functions.py "
   ]
  },
  {
   "cell_type": "markdown",
   "metadata": {
    "deletable": true,
    "editable": true
   },
   "source": [
    "# Loading and cleaning tweets"
   ]
  },
  {
   "cell_type": "markdown",
   "metadata": {
    "deletable": true,
    "editable": true
   },
   "source": [
    "#### 1 load and clean tweets for w2v"
   ]
  },
  {
   "cell_type": "code",
   "execution_count": 2,
   "metadata": {
    "collapsed": false,
    "deletable": true,
    "editable": true
   },
   "outputs": [
    {
     "data": {
      "text/html": [
       "<div>\n",
       "<style>\n",
       "    .dataframe thead tr:only-child th {\n",
       "        text-align: right;\n",
       "    }\n",
       "\n",
       "    .dataframe thead th {\n",
       "        text-align: left;\n",
       "    }\n",
       "\n",
       "    .dataframe tbody tr th {\n",
       "        vertical-align: top;\n",
       "    }\n",
       "</style>\n",
       "<table border=\"1\" class=\"dataframe\">\n",
       "  <thead>\n",
       "    <tr style=\"text-align: right;\">\n",
       "      <th></th>\n",
       "      <th>tweet</th>\n",
       "    </tr>\n",
       "  </thead>\n",
       "  <tbody>\n",
       "    <tr>\n",
       "      <th>997565477458243584</th>\n",
       "      <td>@AngeFreddy Pouloulouuuu</td>\n",
       "    </tr>\n",
       "    <tr>\n",
       "      <th>957325640465862656</th>\n",
       "      <td>@R0eil Nan😂</td>\n",
       "    </tr>\n",
       "    <tr>\n",
       "      <th>1006280333573181441</th>\n",
       "      <td>@Coldmindxd LAQUELLE.</td>\n",
       "    </tr>\n",
       "    <tr>\n",
       "      <th>834864840359473157</th>\n",
       "      <td>Je me dis que dans 20 ans, j'ai 40 ans 🤔🤔</td>\n",
       "    </tr>\n",
       "    <tr>\n",
       "      <th>1005911475934912522</th>\n",
       "      <td>Le mieux qu’ils puissent faire ... https://t.c...</td>\n",
       "    </tr>\n",
       "  </tbody>\n",
       "</table>\n",
       "</div>"
      ],
      "text/plain": [
       "                                                                 tweet\n",
       "997565477458243584                            @AngeFreddy Pouloulouuuu\n",
       "957325640465862656                                        @R0eil Nan😂\n",
       "1006280333573181441                              @Coldmindxd LAQUELLE.\n",
       "834864840359473157         Je me dis que dans 20 ans, j'ai 40 ans 🤔🤔\n",
       "1005911475934912522  Le mieux qu’ils puissent faire ... https://t.c..."
      ]
     },
     "execution_count": 2,
     "metadata": {},
     "output_type": "execute_result"
    }
   ],
   "source": [
    "filename='/Users/Michi/Google Drive/formation_data_science/twitter_project/help_dicrah/machine_learning/tweets_dilcrah_60k.csv'\n",
    "#Streams/stream_#Web2day OR #aidessociales.jsonl'\n",
    "#Users/help_dicrah_large_random_sample.jsonl'\n",
    "\n",
    "def read_json_files(path_to_file):\n",
    "    with open(path_to_file) as p:\n",
    "        data = pd.read_json(p, lines=True)\n",
    "    return data\n",
    "\n",
    "#df = read_json_files(filename)\n",
    "df = pd.read_csv(filename, header=None,\n",
    "                 names=['tweet'], index_col=None)#.drop_duplicates(subset='id')\n",
    "\n",
    "df.head()"
   ]
  },
  {
   "cell_type": "code",
   "execution_count": 3,
   "metadata": {
    "collapsed": false,
    "deletable": true,
    "editable": true
   },
   "outputs": [
    {
     "data": {
      "text/html": [
       "<div>\n",
       "<style>\n",
       "    .dataframe thead tr:only-child th {\n",
       "        text-align: right;\n",
       "    }\n",
       "\n",
       "    .dataframe thead th {\n",
       "        text-align: left;\n",
       "    }\n",
       "\n",
       "    .dataframe tbody tr th {\n",
       "        vertical-align: top;\n",
       "    }\n",
       "</style>\n",
       "<table border=\"1\" class=\"dataframe\">\n",
       "  <thead>\n",
       "    <tr style=\"text-align: right;\">\n",
       "      <th></th>\n",
       "      <th>tweet</th>\n",
       "    </tr>\n",
       "  </thead>\n",
       "  <tbody>\n",
       "    <tr>\n",
       "      <th>997565477458243584</th>\n",
       "      <td>@AngeFreddy Pouloulouuuu</td>\n",
       "    </tr>\n",
       "    <tr>\n",
       "      <th>957325640465862656</th>\n",
       "      <td>@R0eil Nan😂</td>\n",
       "    </tr>\n",
       "    <tr>\n",
       "      <th>1006280333573181441</th>\n",
       "      <td>@Coldmindxd LAQUELLE.</td>\n",
       "    </tr>\n",
       "    <tr>\n",
       "      <th>834864840359473157</th>\n",
       "      <td>Je me dis que dans 20 ans, j'ai 40 ans 🤔🤔</td>\n",
       "    </tr>\n",
       "    <tr>\n",
       "      <th>1005911475934912522</th>\n",
       "      <td>Le mieux qu’ils puissent faire ... https://t.c...</td>\n",
       "    </tr>\n",
       "  </tbody>\n",
       "</table>\n",
       "</div>"
      ],
      "text/plain": [
       "                                                                 tweet\n",
       "997565477458243584                            @AngeFreddy Pouloulouuuu\n",
       "957325640465862656                                        @R0eil Nan😂\n",
       "1006280333573181441                              @Coldmindxd LAQUELLE.\n",
       "834864840359473157         Je me dis que dans 20 ans, j'ai 40 ans 🤔🤔\n",
       "1005911475934912522  Le mieux qu’ils puissent faire ... https://t.c..."
      ]
     },
     "execution_count": 3,
     "metadata": {},
     "output_type": "execute_result"
    },
    {
     "name": "stdout",
     "output_type": "stream",
     "text": [
      "@americanflagusa @Philome17321717 Grace au grand Mufti fossoyeur de la Françe https://t.co/vZbOcJ1zwo\n"
     ]
    },
    {
     "data": {
      "text/plain": [
       "(47199, 1)"
      ]
     },
     "execution_count": 3,
     "metadata": {},
     "output_type": "execute_result"
    }
   ],
   "source": [
    "#print(df.tweet[np.random.randint(0,df.shape[0])])\n",
    "#df = df[['id','full_text']].drop_duplicates(subset='id')\n",
    "df.head()\n",
    "print(df.tweet[58])\n",
    "df.shape"
   ]
  },
  {
   "cell_type": "code",
   "execution_count": 5,
   "metadata": {
    "collapsed": false,
    "deletable": true,
    "editable": true
   },
   "outputs": [
    {
     "name": "stdout",
     "output_type": "stream",
     "text": [
      "En toda la mañana no llovió ah pero nosotras salimos de la Universidad y se larga con todo 😩\n"
     ]
    },
    {
     "data": {
      "text/plain": [
       "u'en toda la manana no llovio ah pero nosotras salimos de la universidad y se larga con todo'"
      ]
     },
     "execution_count": 5,
     "metadata": {},
     "output_type": "execute_result"
    },
    {
     "data": {
      "text/plain": [
       "[u'en',\n",
       " u'toda',\n",
       " u'la',\n",
       " u'manana',\n",
       " u'no',\n",
       " u'llovio',\n",
       " u'ah',\n",
       " u'pero',\n",
       " u'nosotras',\n",
       " u'salimos',\n",
       " u'de',\n",
       " u'la',\n",
       " u'universidad',\n",
       " u'y',\n",
       " u'se',\n",
       " u'larga',\n",
       " u'con',\n",
       " u'todo']"
      ]
     },
     "execution_count": 5,
     "metadata": {},
     "output_type": "execute_result"
    }
   ],
   "source": [
    "text=df.tweet[np.random.randint(1,df.shape[0])]\n",
    "print(text)\n",
    "tweet_cleaner(text, my_dict)\n",
    "\n",
    "\n",
    "tokenize(\\\n",
    "    tweet_cleaner(text, my_dict))"
   ]
  },
  {
   "cell_type": "code",
   "execution_count": 6,
   "metadata": {
    "collapsed": false,
    "deletable": true,
    "editable": true
   },
   "outputs": [
    {
     "data": {
      "text/plain": [
       "(47199, 2)"
      ]
     },
     "execution_count": 6,
     "metadata": {},
     "output_type": "execute_result"
    },
    {
     "data": {
      "text/html": [
       "<div>\n",
       "<style>\n",
       "    .dataframe thead tr:only-child th {\n",
       "        text-align: right;\n",
       "    }\n",
       "\n",
       "    .dataframe thead th {\n",
       "        text-align: left;\n",
       "    }\n",
       "\n",
       "    .dataframe tbody tr th {\n",
       "        vertical-align: top;\n",
       "    }\n",
       "</style>\n",
       "<table border=\"1\" class=\"dataframe\">\n",
       "  <thead>\n",
       "    <tr style=\"text-align: right;\">\n",
       "      <th></th>\n",
       "      <th>tweet</th>\n",
       "      <th>clean_tweets</th>\n",
       "    </tr>\n",
       "  </thead>\n",
       "  <tbody>\n",
       "    <tr>\n",
       "      <th>997565477458243584</th>\n",
       "      <td>@AngeFreddy Pouloulouuuu</td>\n",
       "      <td>pouloulouuuu</td>\n",
       "    </tr>\n",
       "    <tr>\n",
       "      <th>957325640465862656</th>\n",
       "      <td>@R0eil Nan😂</td>\n",
       "      <td>nan</td>\n",
       "    </tr>\n",
       "    <tr>\n",
       "      <th>1006280333573181441</th>\n",
       "      <td>@Coldmindxd LAQUELLE.</td>\n",
       "      <td>laquelle</td>\n",
       "    </tr>\n",
       "    <tr>\n",
       "      <th>834864840359473157</th>\n",
       "      <td>Je me dis que dans 20 ans, j'ai 40 ans 🤔🤔</td>\n",
       "      <td>je me dis que dans ans j ai ans</td>\n",
       "    </tr>\n",
       "    <tr>\n",
       "      <th>1005911475934912522</th>\n",
       "      <td>Le mieux qu’ils puissent faire ... https://t.c...</td>\n",
       "      <td>le mieux qu ils puissent faire</td>\n",
       "    </tr>\n",
       "  </tbody>\n",
       "</table>\n",
       "</div>"
      ],
      "text/plain": [
       "                                                                 tweet  \\\n",
       "997565477458243584                            @AngeFreddy Pouloulouuuu   \n",
       "957325640465862656                                        @R0eil Nan😂   \n",
       "1006280333573181441                              @Coldmindxd LAQUELLE.   \n",
       "834864840359473157         Je me dis que dans 20 ans, j'ai 40 ans 🤔🤔   \n",
       "1005911475934912522  Le mieux qu’ils puissent faire ... https://t.c...   \n",
       "\n",
       "                                        clean_tweets  \n",
       "997565477458243584                      pouloulouuuu  \n",
       "957325640465862656                               nan  \n",
       "1006280333573181441                         laquelle  \n",
       "834864840359473157   je me dis que dans ans j ai ans  \n",
       "1005911475934912522   le mieux qu ils puissent faire  "
      ]
     },
     "execution_count": 6,
     "metadata": {},
     "output_type": "execute_result"
    }
   ],
   "source": [
    "#clean_tweets = [tweet_cleaner(str(tweet), my_dict) for tweet in list(df['full_text'])]\n",
    "\n",
    "df['clean_tweets'] = df.tweet.apply( \\\n",
    "                                    lambda x:' '.join(\\\n",
    "                                                      tokenize(\\\n",
    "                                                                tweet_cleaner(x, my_dict))))\n",
    "\n",
    "#df['clean_tweets'] = clean_tweets\n",
    "df.shape\n",
    "df.head(5)"
   ]
  },
  {
   "cell_type": "code",
   "execution_count": 7,
   "metadata": {
    "collapsed": false,
    "deletable": true,
    "editable": true
   },
   "outputs": [
    {
     "data": {
      "text/plain": [
       "(37921, 2)"
      ]
     },
     "execution_count": 7,
     "metadata": {},
     "output_type": "execute_result"
    }
   ],
   "source": [
    "df = df.drop_duplicates(subset='clean_tweets')\n",
    "df.shape"
   ]
  },
  {
   "cell_type": "code",
   "execution_count": 8,
   "metadata": {
    "collapsed": false,
    "deletable": true,
    "editable": true
   },
   "outputs": [
    {
     "data": {
      "text/html": [
       "<div>\n",
       "<style>\n",
       "    .dataframe thead tr:only-child th {\n",
       "        text-align: right;\n",
       "    }\n",
       "\n",
       "    .dataframe thead th {\n",
       "        text-align: left;\n",
       "    }\n",
       "\n",
       "    .dataframe tbody tr th {\n",
       "        vertical-align: top;\n",
       "    }\n",
       "</style>\n",
       "<table border=\"1\" class=\"dataframe\">\n",
       "  <thead>\n",
       "    <tr style=\"text-align: right;\">\n",
       "      <th></th>\n",
       "      <th>tweet</th>\n",
       "      <th>clean_tweets</th>\n",
       "    </tr>\n",
       "  </thead>\n",
       "  <tbody>\n",
       "    <tr>\n",
       "      <th>834864840359473157</th>\n",
       "      <td>Je me dis que dans 20 ans, j'ai 40 ans 🤔🤔</td>\n",
       "      <td>je me dis que dans ans j ai ans</td>\n",
       "    </tr>\n",
       "    <tr>\n",
       "      <th>1005911475934912522</th>\n",
       "      <td>Le mieux qu’ils puissent faire ... https://t.c...</td>\n",
       "      <td>le mieux qu ils puissent faire</td>\n",
       "    </tr>\n",
       "    <tr>\n",
       "      <th>998272896748400640</th>\n",
       "      <td>@sarahjandau J’avoue ! 😂😂😂 (al’batard)</td>\n",
       "      <td>j avoue al batard</td>\n",
       "    </tr>\n",
       "    <tr>\n",
       "      <th>1006625574201290752</th>\n",
       "      <td>@TweetMen2 J’ai perdu à la question avec la qu...</td>\n",
       "      <td>j ai perdu a la question avec la question sur ...</td>\n",
       "    </tr>\n",
       "    <tr>\n",
       "      <th>1004808648705572864</th>\n",
       "      <td>Mais mdrrrrr le gars il connaît plus que sa pe...</td>\n",
       "      <td>mais mdrrrrr le gars il connait plus que sa pe...</td>\n",
       "    </tr>\n",
       "    <tr>\n",
       "      <th>1006616033090818048</th>\n",
       "      <td>@tissysmlc C’est l’amour fou là hein</td>\n",
       "      <td>c est l amour fou la hein</td>\n",
       "    </tr>\n",
       "    <tr>\n",
       "      <th>1006228696586481672</th>\n",
       "      <td>Ça vous est déjà arrivé un iPhone qui se met à...</td>\n",
       "      <td>ca vous est deja arrive un iphone qui se met a...</td>\n",
       "    </tr>\n",
       "    <tr>\n",
       "      <th>1006474887643348994</th>\n",
       "      <td>@oxomendez Ptdr jsp du tout</td>\n",
       "      <td>ptdr jsp du tout</td>\n",
       "    </tr>\n",
       "    <tr>\n",
       "      <th>1004957223901114368</th>\n",
       "      <td>Recette de #tarte de mousse au #chocolat, #san...</td>\n",
       "      <td>recette de tarte de mousse au chocolat sanscui...</td>\n",
       "    </tr>\n",
       "    <tr>\n",
       "      <th>988163903103356928</th>\n",
       "      <td>@Alexia_Blr @m3llle L'endurance c'est mon poin...</td>\n",
       "      <td>l endurance c est mon point faible</td>\n",
       "    </tr>\n",
       "  </tbody>\n",
       "</table>\n",
       "</div>"
      ],
      "text/plain": [
       "                                                                 tweet  \\\n",
       "834864840359473157         Je me dis que dans 20 ans, j'ai 40 ans 🤔🤔   \n",
       "1005911475934912522  Le mieux qu’ils puissent faire ... https://t.c...   \n",
       "998272896748400640           @sarahjandau J’avoue ! 😂😂😂 (al’batard)   \n",
       "1006625574201290752  @TweetMen2 J’ai perdu à la question avec la qu...   \n",
       "1004808648705572864  Mais mdrrrrr le gars il connaît plus que sa pe...   \n",
       "1006616033090818048               @tissysmlc C’est l’amour fou là hein   \n",
       "1006228696586481672  Ça vous est déjà arrivé un iPhone qui se met à...   \n",
       "1006474887643348994                        @oxomendez Ptdr jsp du tout   \n",
       "1004957223901114368  Recette de #tarte de mousse au #chocolat, #san...   \n",
       "988163903103356928   @Alexia_Blr @m3llle L'endurance c'est mon poin...   \n",
       "\n",
       "                                                          clean_tweets  \n",
       "834864840359473157                     je me dis que dans ans j ai ans  \n",
       "1005911475934912522                     le mieux qu ils puissent faire  \n",
       "998272896748400640                                   j avoue al batard  \n",
       "1006625574201290752  j ai perdu a la question avec la question sur ...  \n",
       "1004808648705572864  mais mdrrrrr le gars il connait plus que sa pe...  \n",
       "1006616033090818048                          c est l amour fou la hein  \n",
       "1006228696586481672  ca vous est deja arrive un iphone qui se met a...  \n",
       "1006474887643348994                                   ptdr jsp du tout  \n",
       "1004957223901114368  recette de tarte de mousse au chocolat sanscui...  \n",
       "988163903103356928                  l endurance c est mon point faible  "
      ]
     },
     "execution_count": 8,
     "metadata": {},
     "output_type": "execute_result"
    },
    {
     "data": {
      "text/plain": [
       "(32580, 2)"
      ]
     },
     "execution_count": 8,
     "metadata": {},
     "output_type": "execute_result"
    }
   ],
   "source": [
    "df['nc'] = [len(t) for t in df.clean_tweets]\n",
    "df['n_word'] = df['clean_tweets'].apply(lambda x: len(x.split(' ')))\n",
    "df = df.drop(df[df.nc <= 3].index).drop('nc', axis=1)\n",
    "df = df.drop(df[df.n_word <= 3].index).drop('n_word', axis=1)\n",
    "df.head(10)\n",
    "df.shape"
   ]
  },
  {
   "cell_type": "markdown",
   "metadata": {
    "deletable": true,
    "editable": true
   },
   "source": [
    "#### 2 load and clean tweets for ML"
   ]
  },
  {
   "cell_type": "code",
   "execution_count": null,
   "metadata": {
    "collapsed": false,
    "deletable": true,
    "editable": true
   },
   "outputs": [],
   "source": [
    "#tweet_file = '/Users/Michi/Google Drive/formation_data_science/twitter_project/help_dicrah/machine_learning/tweets_labeled_4k_all.xlsx'\n",
    "\n",
    "#tw_data = pd.read_excel(tweet_file, names=['Label', 'ID', 'Texte'])\n",
    "\n",
    "#tw_data.head(5)"
   ]
  },
  {
   "cell_type": "code",
   "execution_count": 9,
   "metadata": {
    "collapsed": false,
    "deletable": true,
    "editable": true
   },
   "outputs": [],
   "source": [
    "#tw_data_train = pd.read_csv('tw_data_train.csv')\n",
    "#tw_data_test = pd.read_csv('tw_data_test.csv')\n",
    "#print(tw_data_train.shape)\n",
    "#print(tw_data_test.shape)\n",
    "#ind_train_last = tw_data_train.shape[0]-1\n",
    "\n",
    "tw_data = pd.read_csv('tw_data_labeled_4k.csv')\n",
    "#tw_data = pd.concat([tw_data_train, tw_data_test])\n",
    "\n",
    "\n"
   ]
  },
  {
   "cell_type": "code",
   "execution_count": 10,
   "metadata": {
    "collapsed": false,
    "deletable": true,
    "editable": true
   },
   "outputs": [
    {
     "name": "stdout",
     "output_type": "stream",
     "text": [
      "(3615, 4)\n"
     ]
    }
   ],
   "source": [
    "tw_data['Texte_clean'] = tw_data.Texte.apply(lambda x:' '.join(tokenize(tweet_cleaner(x, my_dict))))\n",
    "\n",
    "print(tw_data.shape)"
   ]
  },
  {
   "cell_type": "code",
   "execution_count": 11,
   "metadata": {
    "collapsed": false,
    "deletable": true,
    "editable": true
   },
   "outputs": [
    {
     "data": {
      "text/plain": [
       "N     3066\n",
       "H      542\n",
       "SH       7\n",
       "Name: Label, dtype: int64"
      ]
     },
     "execution_count": 11,
     "metadata": {},
     "output_type": "execute_result"
    },
    {
     "data": {
      "text/html": [
       "<div>\n",
       "<style>\n",
       "    .dataframe thead tr:only-child th {\n",
       "        text-align: right;\n",
       "    }\n",
       "\n",
       "    .dataframe thead th {\n",
       "        text-align: left;\n",
       "    }\n",
       "\n",
       "    .dataframe tbody tr th {\n",
       "        vertical-align: top;\n",
       "    }\n",
       "</style>\n",
       "<table border=\"1\" class=\"dataframe\">\n",
       "  <thead>\n",
       "    <tr style=\"text-align: right;\">\n",
       "      <th></th>\n",
       "      <th>ID</th>\n",
       "      <th>Label</th>\n",
       "      <th>Texte</th>\n",
       "      <th>Texte_clean</th>\n",
       "    </tr>\n",
       "  </thead>\n",
       "  <tbody>\n",
       "    <tr>\n",
       "      <th>0</th>\n",
       "      <td>998206424189751296</td>\n",
       "      <td>N</td>\n",
       "      <td>On m’avait sorti (pour de vrai) « on est tous ...</td>\n",
       "      <td>on m avait sorti pour de vrai on est tous egau...</td>\n",
       "    </tr>\n",
       "    <tr>\n",
       "      <th>1</th>\n",
       "      <td>997896508384169984</td>\n",
       "      <td>N</td>\n",
       "      <td>VIVE L AMOUR ❤VIVE LA PAIX\\n❤❤❤❤❤❤❤❤❤❤❤❤👏👍\\n...</td>\n",
       "      <td>vive l amour vive la paix entre les peuples du...</td>\n",
       "    </tr>\n",
       "    <tr>\n",
       "      <th>2</th>\n",
       "      <td>31</td>\n",
       "      <td>H</td>\n",
       "      <td>J'me rend compte à quel point ya trop d'noir d...</td>\n",
       "      <td>j me rend compte a quel point ya trop d noir d...</td>\n",
       "    </tr>\n",
       "    <tr>\n",
       "      <th>3</th>\n",
       "      <td>998519485467414529</td>\n",
       "      <td>H</td>\n",
       "      <td>@KrypsKarmaKid Tu traites qui de salope la seu...</td>\n",
       "      <td>tu traites qui de salope la seule salope je co...</td>\n",
       "    </tr>\n",
       "    <tr>\n",
       "      <th>4</th>\n",
       "      <td>997799245464899584</td>\n",
       "      <td>H</td>\n",
       "      <td>Voilà à quoi tu dois me servir sale pute ! Ta ...</td>\n",
       "      <td>voila a quoi tu dois me servir sale pute ta se...</td>\n",
       "    </tr>\n",
       "  </tbody>\n",
       "</table>\n",
       "</div>"
      ],
      "text/plain": [
       "                   ID Label  \\\n",
       "0  998206424189751296     N   \n",
       "1  997896508384169984     N   \n",
       "2                  31     H   \n",
       "3  998519485467414529     H   \n",
       "4  997799245464899584     H   \n",
       "\n",
       "                                               Texte  \\\n",
       "0  On m’avait sorti (pour de vrai) « on est tous ...   \n",
       "1  VIVE L AMOUR ❤VIVE LA PAIX\\n❤❤❤❤❤❤❤❤❤❤❤❤👏👍\\n...   \n",
       "2  J'me rend compte à quel point ya trop d'noir d...   \n",
       "3  @KrypsKarmaKid Tu traites qui de salope la seu...   \n",
       "4  Voilà à quoi tu dois me servir sale pute ! Ta ...   \n",
       "\n",
       "                                         Texte_clean  \n",
       "0  on m avait sorti pour de vrai on est tous egau...  \n",
       "1  vive l amour vive la paix entre les peuples du...  \n",
       "2  j me rend compte a quel point ya trop d noir d...  \n",
       "3  tu traites qui de salope la seule salope je co...  \n",
       "4  voila a quoi tu dois me servir sale pute ta se...  "
      ]
     },
     "execution_count": 11,
     "metadata": {},
     "output_type": "execute_result"
    }
   ],
   "source": [
    "tw_data.Label.value_counts()\n",
    "tw_data.head(5)"
   ]
  },
  {
   "cell_type": "code",
   "execution_count": 12,
   "metadata": {
    "collapsed": false,
    "deletable": true,
    "editable": true
   },
   "outputs": [
    {
     "data": {
      "text/plain": [
       "N     3066\n",
       "H      542\n",
       "SH       7\n",
       "Name: Label, dtype: int64"
      ]
     },
     "execution_count": 12,
     "metadata": {},
     "output_type": "execute_result"
    }
   ],
   "source": [
    "tw_data.Label.value_counts()"
   ]
  },
  {
   "cell_type": "code",
   "execution_count": 12,
   "metadata": {
    "collapsed": false,
    "deletable": true,
    "editable": true
   },
   "outputs": [
    {
     "data": {
      "text/plain": [
       "N    3066\n",
       "H     549\n",
       "Name: Label, dtype: int64"
      ]
     },
     "execution_count": 12,
     "metadata": {},
     "output_type": "execute_result"
    },
    {
     "data": {
      "text/html": [
       "<div>\n",
       "<style>\n",
       "    .dataframe thead tr:only-child th {\n",
       "        text-align: right;\n",
       "    }\n",
       "\n",
       "    .dataframe thead th {\n",
       "        text-align: left;\n",
       "    }\n",
       "\n",
       "    .dataframe tbody tr th {\n",
       "        vertical-align: top;\n",
       "    }\n",
       "</style>\n",
       "<table border=\"1\" class=\"dataframe\">\n",
       "  <thead>\n",
       "    <tr style=\"text-align: right;\">\n",
       "      <th></th>\n",
       "      <th>ID</th>\n",
       "      <th>Label</th>\n",
       "      <th>Texte</th>\n",
       "      <th>Texte_clean</th>\n",
       "    </tr>\n",
       "  </thead>\n",
       "  <tbody>\n",
       "    <tr>\n",
       "      <th>0</th>\n",
       "      <td>998206424189751296</td>\n",
       "      <td>N</td>\n",
       "      <td>On m’avait sorti (pour de vrai) « on est tous ...</td>\n",
       "      <td>on m avait sorti pour de vrai on est tous egau...</td>\n",
       "    </tr>\n",
       "    <tr>\n",
       "      <th>1</th>\n",
       "      <td>997896508384169984</td>\n",
       "      <td>N</td>\n",
       "      <td>VIVE L AMOUR ❤VIVE LA PAIX\\n❤❤❤❤❤❤❤❤❤❤❤❤👏👍\\n...</td>\n",
       "      <td>vive l amour vive la paix entre les peuples du...</td>\n",
       "    </tr>\n",
       "    <tr>\n",
       "      <th>2</th>\n",
       "      <td>31</td>\n",
       "      <td>H</td>\n",
       "      <td>J'me rend compte à quel point ya trop d'noir d...</td>\n",
       "      <td>j me rend compte a quel point ya trop d noir d...</td>\n",
       "    </tr>\n",
       "    <tr>\n",
       "      <th>3</th>\n",
       "      <td>998519485467414529</td>\n",
       "      <td>H</td>\n",
       "      <td>@KrypsKarmaKid Tu traites qui de salope la seu...</td>\n",
       "      <td>tu traites qui de salope la seule salope je co...</td>\n",
       "    </tr>\n",
       "    <tr>\n",
       "      <th>4</th>\n",
       "      <td>997799245464899584</td>\n",
       "      <td>H</td>\n",
       "      <td>Voilà à quoi tu dois me servir sale pute ! Ta ...</td>\n",
       "      <td>voila a quoi tu dois me servir sale pute ta se...</td>\n",
       "    </tr>\n",
       "  </tbody>\n",
       "</table>\n",
       "</div>"
      ],
      "text/plain": [
       "                   ID Label  \\\n",
       "0  998206424189751296     N   \n",
       "1  997896508384169984     N   \n",
       "2                  31     H   \n",
       "3  998519485467414529     H   \n",
       "4  997799245464899584     H   \n",
       "\n",
       "                                               Texte  \\\n",
       "0  On m’avait sorti (pour de vrai) « on est tous ...   \n",
       "1  VIVE L AMOUR ❤VIVE LA PAIX\\n❤❤❤❤❤❤❤❤❤❤❤❤👏👍\\n...   \n",
       "2  J'me rend compte à quel point ya trop d'noir d...   \n",
       "3  @KrypsKarmaKid Tu traites qui de salope la seu...   \n",
       "4  Voilà à quoi tu dois me servir sale pute ! Ta ...   \n",
       "\n",
       "                                         Texte_clean  \n",
       "0  on m avait sorti pour de vrai on est tous egau...  \n",
       "1  vive l amour vive la paix entre les peuples du...  \n",
       "2  j me rend compte a quel point ya trop d noir d...  \n",
       "3  tu traites qui de salope la seule salope je co...  \n",
       "4  voila a quoi tu dois me servir sale pute ta se...  "
      ]
     },
     "execution_count": 12,
     "metadata": {},
     "output_type": "execute_result"
    }
   ],
   "source": [
    "tw_data.loc[tw_data.Label=='n', 'Label']='N'\n",
    "tw_data.loc[tw_data.Label=='s', 'Label']='S'\n",
    "tw_data.loc[tw_data.Label=='h', 'Label']='H'\n",
    "tw_data.loc[tw_data.Label=='sh', 'Label']='SH'\n",
    "tw_data.loc[tw_data.Label=='PUB', 'Label']='N'\n",
    "\n",
    "\n",
    "tw_data = tw_data[(tw_data['Label']!='nn') & (tw_data['Label']!='f') & (tw_data['Label']!='ENG')]\n",
    "#tw_data = tw_data.drop(tw_data['Label']=='f', axis=0)\n",
    "#tw_data = tw_data.drop(tw_data['Label']=='ENG', axis=0)\n",
    "\n",
    "\n",
    "tw_data.loc[tw_data.Label=='S', 'Label']='H'\n",
    "tw_data.loc[tw_data.Label=='SH', 'Label']='H'\n",
    "\n",
    "\n",
    "tw_data.Label.value_counts()\n",
    "\n",
    "tw_data = tw_data.reset_index(drop=True)\n",
    "tw_data.head(5)\n",
    "\n"
   ]
  },
  {
   "cell_type": "code",
   "execution_count": 13,
   "metadata": {
    "collapsed": false,
    "deletable": true,
    "editable": true
   },
   "outputs": [
    {
     "data": {
      "text/plain": [
       "ID             0\n",
       "Label          0\n",
       "Texte          0\n",
       "Texte_clean    0\n",
       "dtype: int64"
      ]
     },
     "execution_count": 13,
     "metadata": {},
     "output_type": "execute_result"
    }
   ],
   "source": [
    "tw_data.isnull().sum()"
   ]
  },
  {
   "cell_type": "markdown",
   "metadata": {
    "deletable": true,
    "editable": true
   },
   "source": [
    "# 2 Word2Vec representation"
   ]
  },
  {
   "cell_type": "code",
   "execution_count": 14,
   "metadata": {
    "collapsed": false,
    "deletable": true,
    "editable": true
   },
   "outputs": [
    {
     "name": "stdout",
     "output_type": "stream",
     "text": [
      "[[u'je', u'me', u'dis', u'que', u'dans', u'ans', u'j', u'ai', u'ans'], [u'le', u'mieux', u'qu', u'ils', u'puissent', u'faire'], [u'j', u'avoue', u'al', u'batard']]\n"
     ]
    }
   ],
   "source": [
    "# list of list of words\n",
    "documents = [tokenize(tweet) for tweet in list(df['clean_tweets'])]\n",
    "#for tweet in list(df['clean_tweets']):\n",
    "#    documents.append(tweet.split())\n",
    "\n",
    "print(documents[:3])"
   ]
  },
  {
   "cell_type": "code",
   "execution_count": 15,
   "metadata": {
    "collapsed": false,
    "deletable": true,
    "editable": true
   },
   "outputs": [
    {
     "data": {
      "text/plain": [
       "(4416686, 5709260)"
      ]
     },
     "execution_count": 15,
     "metadata": {},
     "output_type": "execute_result"
    }
   ],
   "source": [
    "model = gensim.models.Word2Vec(documents, size=300, window=10, min_count=1, workers=10)\n",
    "model.train(documents, total_examples=len(documents), epochs=10)"
   ]
  },
  {
   "cell_type": "code",
   "execution_count": 16,
   "metadata": {
    "collapsed": false,
    "deletable": true,
    "editable": true
   },
   "outputs": [
    {
     "name": "stdout",
     "output_type": "stream",
     "text": [
      "('mots proches de ', 'pute')\n"
     ]
    },
    {
     "data": {
      "text/plain": [
       "[(u'fis', 0.8839339017868042),\n",
       " (u'sale', 0.8632980585098267),\n",
       " (u'fils', 0.8471575975418091),\n",
       " (u'salope', 0.8281555771827698),\n",
       " (u'merde', 0.8087617754936218)]"
      ]
     },
     "execution_count": 16,
     "metadata": {},
     "output_type": "execute_result"
    }
   ],
   "source": [
    "w = \"pute\"\n",
    "print(\"mots proches de \", w)\n",
    "model.wv.most_similar(positive=w, topn=5)"
   ]
  },
  {
   "cell_type": "markdown",
   "metadata": {
    "deletable": true,
    "editable": true
   },
   "source": [
    "# 3 Word2Vec features"
   ]
  },
  {
   "cell_type": "code",
   "execution_count": 17,
   "metadata": {
    "collapsed": false,
    "deletable": true,
    "editable": true
   },
   "outputs": [],
   "source": [
    "# dictionary mapping word --> 150-dimensional vector \n",
    "w2v = dict(zip(model.wv.index2word, model.wv.syn0))"
   ]
  },
  {
   "cell_type": "code",
   "execution_count": 18,
   "metadata": {
    "collapsed": false,
    "deletable": true,
    "editable": true
   },
   "outputs": [
    {
     "name": "stdout",
     "output_type": "stream",
     "text": [
      "8.49997654095\n"
     ]
    },
    {
     "data": {
      "text/plain": [
       "<help_dicrah_functions.TfidfEmbeddingVectorizer at 0x1157bdf50>"
      ]
     },
     "execution_count": 18,
     "metadata": {},
     "output_type": "execute_result"
    }
   ],
   "source": [
    "my_vectorizer = TfidfEmbeddingVectorizer(w2v)\n",
    "\n",
    "my_vectorizer.fit(tw_data.Texte_clean)"
   ]
  },
  {
   "cell_type": "code",
   "execution_count": 19,
   "metadata": {
    "collapsed": false,
    "deletable": true,
    "editable": true
   },
   "outputs": [
    {
     "data": {
      "text/plain": [
       "(3615, 300)"
      ]
     },
     "execution_count": 19,
     "metadata": {},
     "output_type": "execute_result"
    }
   ],
   "source": [
    "features = my_vectorizer.transform(tw_data.Texte_clean)\n",
    "features.shape"
   ]
  },
  {
   "cell_type": "code",
   "execution_count": 16,
   "metadata": {
    "collapsed": true,
    "deletable": true,
    "editable": true
   },
   "outputs": [],
   "source": [
    "# Tf-Idf features"
   ]
  },
  {
   "cell_type": "code",
   "execution_count": 20,
   "metadata": {
    "collapsed": true,
    "deletable": true,
    "editable": true
   },
   "outputs": [],
   "source": [
    "features_tfidf, words_freq, vocab = get_tfidf_frequencies(tw_data.Texte)"
   ]
  },
  {
   "cell_type": "code",
   "execution_count": 21,
   "metadata": {
    "collapsed": false,
    "deletable": true,
    "editable": true
   },
   "outputs": [
    {
     "data": {
      "text/plain": [
       "(3615, 8)"
      ]
     },
     "execution_count": 21,
     "metadata": {},
     "output_type": "execute_result"
    }
   ],
   "source": [
    "tw_data = add_lexical_features(tw_data)\n",
    "\n",
    "lex_cols = ['nbr_characters','nbr_words', 'nbr_ats', 'nbr_hashtags', 'nbr_urls',\n",
    "            'nbr_letters','nbr_caps', 'nbr_fancy' ]\n",
    "lex_features = tw_data.as_matrix(columns=lex_cols)\n",
    "lex_features.shape\n"
   ]
  },
  {
   "cell_type": "code",
   "execution_count": 22,
   "metadata": {
    "collapsed": false,
    "deletable": true,
    "editable": true
   },
   "outputs": [
    {
     "data": {
      "text/plain": [
       "(3615, 308)"
      ]
     },
     "execution_count": 22,
     "metadata": {},
     "output_type": "execute_result"
    }
   ],
   "source": [
    "M = np.concatenate([features,lex_features],axis=1)\n",
    "M.shape\n"
   ]
  },
  {
   "cell_type": "code",
   "execution_count": 23,
   "metadata": {
    "collapsed": false,
    "deletable": true,
    "editable": true
   },
   "outputs": [
    {
     "data": {
      "text/plain": [
       "(3615, 1755)"
      ]
     },
     "execution_count": 23,
     "metadata": {},
     "output_type": "execute_result"
    }
   ],
   "source": [
    "M1 = np.concatenate([features_tfidf,lex_features],axis=1)\n",
    "M1.shape"
   ]
  },
  {
   "cell_type": "markdown",
   "metadata": {
    "deletable": true,
    "editable": true
   },
   "source": [
    "#### Test"
   ]
  },
  {
   "cell_type": "code",
   "execution_count": 24,
   "metadata": {
    "collapsed": false,
    "deletable": true,
    "editable": true
   },
   "outputs": [
    {
     "data": {
      "text/plain": [
       "220"
      ]
     },
     "execution_count": 24,
     "metadata": {},
     "output_type": "execute_result"
    },
    {
     "data": {
      "text/plain": [
       "300"
      ]
     },
     "execution_count": 24,
     "metadata": {},
     "output_type": "execute_result"
    }
   ],
   "source": [
    "ind = np.random.randint(0,features.shape[0])\n",
    "ind\n",
    "\n",
    "np.sum(features[ind,:] == my_vectorizer.transform([tw_data.loc[ind,:].Texte_clean]))\n",
    "\n",
    "#features[ind,:] == my_vectorizer.transform([tw_data.loc[ind,:].Texte_clean])"
   ]
  },
  {
   "cell_type": "markdown",
   "metadata": {
    "deletable": true,
    "editable": true
   },
   "source": [
    "# ML"
   ]
  },
  {
   "cell_type": "code",
   "execution_count": 25,
   "metadata": {
    "collapsed": true,
    "deletable": true,
    "editable": true
   },
   "outputs": [],
   "source": [
    "from sklearn.model_selection import train_test_split\n",
    "from sklearn.model_selection import StratifiedKFold, GridSearchCV\n",
    "from sklearn.pipeline import Pipeline\n",
    "from sklearn.linear_model import LogisticRegression\n",
    "from sklearn.feature_selection import SelectFromModel\n",
    "from sklearn.metrics import classification_report\n",
    "from sklearn import preprocessing\n",
    "from sklearn import svm, model_selection\n",
    "from sklearn.model_selection import train_test_split\n",
    "\n"
   ]
  },
  {
   "cell_type": "code",
   "execution_count": 26,
   "metadata": {
    "collapsed": false,
    "deletable": true,
    "editable": true
   },
   "outputs": [
    {
     "data": {
      "text/plain": [
       "{'H': 0, 'N': 1}"
      ]
     },
     "execution_count": 26,
     "metadata": {},
     "output_type": "execute_result"
    },
    {
     "data": {
      "text/plain": [
       "1    3066\n",
       "0     549\n",
       "Name: Label_id, dtype: int64"
      ]
     },
     "execution_count": 26,
     "metadata": {},
     "output_type": "execute_result"
    }
   ],
   "source": [
    "tw_data['Label']=tw_data['Label'].astype('category')\n",
    "tw_data['Label_id']=tw_data['Label'].cat.codes\n",
    "\n",
    "label_id_df_fr = tw_data[['Label', 'Label_id']].drop_duplicates().sort_values('Label_id')\n",
    "label_to_id_fr = dict(label_id_df_fr.values)\n",
    "\n",
    "y = tw_data['Label_id']\n",
    "\n",
    "label_to_id_fr\n",
    "\n",
    "tw_data.Label_id.value_counts()\n"
   ]
  },
  {
   "cell_type": "code",
   "execution_count": 23,
   "metadata": {
    "collapsed": false,
    "deletable": true,
    "editable": true
   },
   "outputs": [],
   "source": [
    "\n",
    "#X_train = features[:ind_train_last, :]\n",
    "#X_test = features[ind_train_last+1:, :]\n",
    "\n",
    "#y_train = y.as_matrix()[:ind_train_last]\n",
    "#y_test = y.as_matrix()[ind_train_last+1:]\n",
    "\n",
    "#y_train_df = y[:ind_train_last]\n",
    "#y_test_df = y[ind_train_last+1:]\n"
   ]
  },
  {
   "cell_type": "code",
   "execution_count": 27,
   "metadata": {
    "collapsed": false,
    "deletable": true,
    "editable": true
   },
   "outputs": [],
   "source": [
    "#M = pd.DataFrame(M)\n",
    "#M1 = pd.DataFrame(M1)\n",
    "\n",
    "\n",
    "X_train, X_test, y_train, y_test = train_test_split(M, y ,random_state=42, test_size=0.15)\n",
    "\n",
    "X_train_tfidf, X_test_tfidf, y_train_tfidf, y_test_tfidf = train_test_split(M1, y ,random_state=42, test_size=0.15)\n",
    "\n"
   ]
  },
  {
   "cell_type": "markdown",
   "metadata": {},
   "source": [
    "### Logistic Regression"
   ]
  },
  {
   "cell_type": "code",
   "execution_count": 28,
   "metadata": {
    "collapsed": false,
    "deletable": true,
    "editable": true
   },
   "outputs": [
    {
     "data": {
      "text/plain": [
       "LogisticRegression(C=1.0, class_weight=None, dual=False, fit_intercept=True,\n",
       "          intercept_scaling=1, max_iter=100, multi_class='ovr', n_jobs=1,\n",
       "          penalty='l2', random_state=None, solver='liblinear', tol=0.0001,\n",
       "          verbose=0, warm_start=False)"
      ]
     },
     "execution_count": 28,
     "metadata": {},
     "output_type": "execute_result"
    }
   ],
   "source": [
    "from sklearn import linear_model\n",
    "\n",
    "lr_model = linear_model.LogisticRegression(C=1.)\n",
    "lr_model.fit(X_train, y_train)\n"
   ]
  },
  {
   "cell_type": "code",
   "execution_count": 29,
   "metadata": {
    "collapsed": false,
    "deletable": true,
    "editable": true
   },
   "outputs": [
    {
     "name": "stdout",
     "output_type": "stream",
     "text": [
      "             precision    recall  f1-score   support\n",
      "\n",
      "          0       0.84      0.35      0.50        74\n",
      "          1       0.91      0.99      0.95       469\n",
      "\n",
      "avg / total       0.90      0.90      0.88       543\n",
      "\n"
     ]
    }
   ],
   "source": [
    "# Predictions with word2vec\n",
    "y_preds_lr = lr_model.predict(X_test)\n",
    "print(classification_report( y_test, y_preds_lr ))"
   ]
  },
  {
   "cell_type": "code",
   "execution_count": 30,
   "metadata": {
    "collapsed": false,
    "deletable": true,
    "editable": true
   },
   "outputs": [
    {
     "data": {
      "image/png": "[encoded data removed]",
      "text/plain": [
       "<matplotlib.figure.Figure at 0x1163a7150>"
      ]
     },
     "metadata": {},
     "output_type": "display_data"
    },
    {
     "data": {
      "text/plain": [
       "array([[ 26,  48],\n",
       "       [  5, 464]])"
      ]
     },
     "execution_count": 30,
     "metadata": {},
     "output_type": "execute_result"
    }
   ],
   "source": [
    "print_cm(y_test, y_preds_lr , ['H','N'])"
   ]
  },
  {
   "cell_type": "code",
   "execution_count": 31,
   "metadata": {
    "collapsed": false,
    "deletable": true,
    "editable": true
   },
   "outputs": [
    {
     "data": {
      "text/plain": [
       "LogisticRegression(C=10, class_weight='balanced', dual=False,\n",
       "          fit_intercept=True, intercept_scaling=1, max_iter=100,\n",
       "          multi_class='ovr', n_jobs=1, penalty='l2', random_state=None,\n",
       "          solver='liblinear', tol=0.0001, verbose=0, warm_start=False)"
      ]
     },
     "execution_count": 31,
     "metadata": {},
     "output_type": "execute_result"
    },
    {
     "name": "stdout",
     "output_type": "stream",
     "text": [
      "             precision    recall  f1-score   support\n",
      "\n",
      "          0       0.45      0.61      0.51        74\n",
      "          1       0.93      0.88      0.91       469\n",
      "\n",
      "avg / total       0.87      0.84      0.85       543\n",
      "\n"
     ]
    }
   ],
   "source": [
    "# Predictions with tfidf\n",
    "\n",
    "lr_model_tfidf = linear_model.LogisticRegression(C=10, class_weight='balanced')\n",
    "\n",
    "lr_model_tfidf.fit(X_train_tfidf, y_train_tfidf)\n",
    "y_preds_lr_tfidf = lr_model_tfidf.predict(X_test_tfidf)\n",
    "\n",
    "print(classification_report( y_test_tfidf, y_preds_lr_tfidf ))"
   ]
  },
  {
   "cell_type": "code",
   "execution_count": 32,
   "metadata": {
    "collapsed": false,
    "deletable": true,
    "editable": true
   },
   "outputs": [
    {
     "data": {
      "image/png": "[encoded data removed]",
      "text/plain": [
       "<matplotlib.figure.Figure at 0x128040e90>"
      ]
     },
     "metadata": {},
     "output_type": "display_data"
    },
    {
     "data": {
      "text/plain": [
       "array([[ 45,  29],\n",
       "       [ 56, 413]])"
      ]
     },
     "execution_count": 32,
     "metadata": {},
     "output_type": "execute_result"
    }
   ],
   "source": [
    "print_cm(y_test, y_preds_lr_tfidf , ['H','N'])"
   ]
  },
  {
   "cell_type": "markdown",
   "metadata": {},
   "source": [
    "# Machine learning with parameter search"
   ]
  },
  {
   "cell_type": "markdown",
   "metadata": {},
   "source": [
    "### As a metric, i will maximise recall for class \"H\" (it is better to predict an \"H\" which is actually an \"N\" than the contrary). The function custom_recall does this and will be used as evaluation metric to choose the best model "
   ]
  },
  {
   "cell_type": "code",
   "execution_count": 33,
   "metadata": {
    "collapsed": false
   },
   "outputs": [],
   "source": [
    "from sklearn.metrics import f1_score, recall_score, make_scorer\n",
    "\n",
    "\n",
    "def custom_recall(y_true, y_pred): \n",
    "    ''' Computes recall only on labels 0 '''\n",
    "    rec = recall_score(y_true, y_pred, labels=[0], pos_label=0, average='binary')\n",
    "    return rec #target_accuracy\n",
    "\n",
    "\n",
    "my_scorer = make_scorer(custom_recall)\n"
   ]
  },
  {
   "cell_type": "code",
   "execution_count": 38,
   "metadata": {
    "collapsed": true
   },
   "outputs": [],
   "source": [
    "\n",
    "def my_pipeline(my_clf, x_train, x_test , y_train, t_test, scorer, parameters):\n",
    "\n",
    "    pipeline = Pipeline([('clf', my_clf)])\n",
    "\n",
    "    nn = x_train.shape[0]\n",
    "\n",
    "    grid_search = GridSearchCV(pipeline, parameters, n_jobs=-1,verbose=1, scoring=scorer)\n",
    "    grid_search.fit(x_train, y_train)\n",
    "    print 'Best score: %0.3f' % grid_search.best_score_\n",
    "    print 'Best parameters set:'\n",
    "    best_parameters = grid_search.best_estimator_.get_params()\n",
    "    for param_name in sorted(parameters.keys()):\n",
    "        print '\\t%s: %r' % (param_name, best_parameters[param_name])\n",
    "\n",
    "    predictions = grid_search.predict(x_test)\n",
    "    print classification_report(y_test, predictions)\n",
    "    \n",
    "    return grid_search"
   ]
  },
  {
   "cell_type": "code",
   "execution_count": 39,
   "metadata": {
    "collapsed": false
   },
   "outputs": [
    {
     "name": "stdout",
     "output_type": "stream",
     "text": [
      "Fitting 3 folds for each of 10 candidates, totalling 30 fits\n"
     ]
    },
    {
     "name": "stderr",
     "output_type": "stream",
     "text": [
      "[Parallel(n_jobs=-1)]: Done  30 out of  30 | elapsed:    8.4s finished\n"
     ]
    },
    {
     "name": "stdout",
     "output_type": "stream",
     "text": [
      "Best score: 0.575\n",
      "Best parameters set:\n",
      "\tclf__C: 750.25\n",
      "\tclf__penalty: 'l1'\n",
      "             precision    recall  f1-score   support\n",
      "\n",
      "          0       0.37      0.59      0.45        74\n",
      "          1       0.93      0.84      0.88       469\n",
      "\n",
      "avg / total       0.85      0.80      0.82       543\n",
      "\n"
     ]
    }
   ],
   "source": [
    "parameters_lr = {\n",
    "        'clf__penalty': ('l1', 'l2'),\n",
    "        'clf__C': np.linspace(1, 1000, 5),\n",
    "    }\n",
    "\n",
    "\n",
    "\n",
    "class_LR = my_pipeline(linear_model.LogisticRegression(C=1., class_weight='balanced'), \n",
    "                       X_train_tfidf, X_test_tfidf, y_train_tfidf, y_test_tfidf,\n",
    "                       my_scorer , parameters_lr)"
   ]
  },
  {
   "cell_type": "code",
   "execution_count": 40,
   "metadata": {
    "collapsed": false
   },
   "outputs": [
    {
     "data": {
      "image/png": "[encoded data removed]",
      "text/plain": [
       "<matplotlib.figure.Figure at 0x119babd10>"
      ]
     },
     "metadata": {},
     "output_type": "display_data"
    },
    {
     "data": {
      "text/plain": [
       "array([[ 44,  30],\n",
       "       [ 76, 393]])"
      ]
     },
     "execution_count": 40,
     "metadata": {},
     "output_type": "execute_result"
    }
   ],
   "source": [
    "print_cm(y_test_tfidf, class_LR.predict(X_test_tfidf) , ['H','N'])"
   ]
  },
  {
   "cell_type": "markdown",
   "metadata": {
    "deletable": true,
    "editable": true
   },
   "source": [
    "### SVM"
   ]
  },
  {
   "cell_type": "code",
   "execution_count": 41,
   "metadata": {
    "collapsed": false,
    "deletable": true,
    "editable": true
   },
   "outputs": [],
   "source": [
    "scaler = preprocessing.StandardScaler().fit(X_train_tfidf)\n",
    "\n",
    "X_train_scaled = scaler.transform(X_train_tfidf)\n",
    "X_test_scaled = scaler.transform(X_test_tfidf)\n",
    "\n",
    "n_components = 50\n",
    "pca = PCA(n_components=n_components, whiten=True).fit(X_train_scaled)\n",
    "\n",
    "X_train_pca = pca.transform(X_train_scaled)\n",
    "X_test_pca = pca.transform(X_test_scaled)\n"
   ]
  },
  {
   "cell_type": "code",
   "execution_count": 42,
   "metadata": {
    "collapsed": false,
    "deletable": true,
    "editable": true
   },
   "outputs": [
    {
     "name": "stdout",
     "output_type": "stream",
     "text": [
      "Fitting 3 folds for each of 9 candidates, totalling 27 fits\n"
     ]
    },
    {
     "name": "stderr",
     "output_type": "stream",
     "text": [
      "[Parallel(n_jobs=-1)]: Done  27 out of  27 | elapsed:   12.7s finished\n"
     ]
    },
    {
     "name": "stdout",
     "output_type": "stream",
     "text": [
      "Best score: 0.427\n",
      "Best parameters set:\n",
      "\tclf__C: 500\n",
      "\tclf__gamma: 0.01\n",
      "             precision    recall  f1-score   support\n",
      "\n",
      "          0       0.50      0.43      0.46        74\n",
      "          1       0.91      0.93      0.92       469\n",
      "\n",
      "avg / total       0.86      0.86      0.86       543\n",
      "\n"
     ]
    }
   ],
   "source": [
    "# I use the pca components wit n=50, therwise it is too slow. But with the full features it's still worse than LogReg!\n",
    "\n",
    "parameters_svm = {\n",
    "        'clf__gamma': (0.0001, 0.001, 0.01),\n",
    "        'clf__C': (100, 150, 500),\n",
    "    }\n",
    "\n",
    "class_SVM = my_pipeline(svm.SVC(C=100, kernel='rbf'),\n",
    "                       X_train_pca, X_test_pca, y_train_tfidf, y_test_tfidf,\n",
    "                       my_scorer , parameters_svm)"
   ]
  },
  {
   "cell_type": "code",
   "execution_count": 44,
   "metadata": {
    "collapsed": false
   },
   "outputs": [
    {
     "data": {
      "image/png": "[encoded data removed]",
      "text/plain": [
       "<matplotlib.figure.Figure at 0x1287a6fd0>"
      ]
     },
     "metadata": {},
     "output_type": "display_data"
    },
    {
     "data": {
      "text/plain": [
       "array([[ 32,  42],\n",
       "       [ 32, 437]])"
      ]
     },
     "execution_count": 44,
     "metadata": {},
     "output_type": "execute_result"
    }
   ],
   "source": [
    "print_cm(y_test_tfidf, class_SVM.predict(X_test_pca) , ['H','N'])"
   ]
  },
  {
   "cell_type": "markdown",
   "metadata": {},
   "source": [
    "### Random Forest"
   ]
  },
  {
   "cell_type": "code",
   "execution_count": 45,
   "metadata": {
    "collapsed": false
   },
   "outputs": [
    {
     "data": {
      "text/plain": [
       "RandomForestClassifier(bootstrap=True, class_weight=None, criterion='gini',\n",
       "            max_depth=None, max_features='auto', max_leaf_nodes=None,\n",
       "            min_impurity_decrease=0.0, min_impurity_split=None,\n",
       "            min_samples_leaf=1, min_samples_split=2,\n",
       "            min_weight_fraction_leaf=0.0, n_estimators=10, n_jobs=-1,\n",
       "            oob_score=False, random_state=321, verbose=0, warm_start=False)"
      ]
     },
     "execution_count": 45,
     "metadata": {},
     "output_type": "execute_result"
    },
    {
     "name": "stdout",
     "output_type": "stream",
     "text": [
      "             precision    recall  f1-score   support\n",
      "\n",
      "          0       0.82      0.57      0.67        74\n",
      "          1       0.93      0.98      0.96       469\n",
      "\n",
      "avg / total       0.92      0.92      0.92       543\n",
      "\n"
     ]
    },
    {
     "data": {
      "image/png": "[encoded data removed]",
      "text/plain": [
       "<matplotlib.figure.Figure at 0x12879cb10>"
      ]
     },
     "metadata": {},
     "output_type": "display_data"
    },
    {
     "data": {
      "text/plain": [
       "array([[ 42,  32],\n",
       "       [  9, 460]])"
      ]
     },
     "execution_count": 45,
     "metadata": {},
     "output_type": "execute_result"
    }
   ],
   "source": [
    "from sklearn import ensemble\n",
    "\n",
    "clf = ensemble.RandomForestClassifier(n_jobs=-1, random_state=321)\n",
    "clf.fit(X_train_tfidf, y_train)\n",
    "y_pred = clf.predict(X_test_tfidf)\n",
    "\n",
    "\n",
    "print classification_report(y_test, y_pred)\n",
    "print_cm(y_test, y_pred , ['H','N'])"
   ]
  },
  {
   "cell_type": "code",
   "execution_count": 46,
   "metadata": {
    "collapsed": false
   },
   "outputs": [
    {
     "name": "stdout",
     "output_type": "stream",
     "text": [
      "Fitting 3 folds for each of 2 candidates, totalling 6 fits\n"
     ]
    },
    {
     "name": "stderr",
     "output_type": "stream",
     "text": [
      "[Parallel(n_jobs=-1)]: Done   6 out of   6 | elapsed:    4.7s remaining:    0.0s\n",
      "[Parallel(n_jobs=-1)]: Done   6 out of   6 | elapsed:    4.8s finished\n"
     ]
    },
    {
     "name": "stdout",
     "output_type": "stream",
     "text": [
      "Best score: 0.484\n",
      "Best parameters set:\n",
      "\tclf__criterion: 'gini'\n",
      "             precision    recall  f1-score   support\n",
      "\n",
      "          0       0.82      0.57      0.67        74\n",
      "          1       0.93      0.98      0.96       469\n",
      "\n",
      "avg / total       0.92      0.92      0.92       543\n",
      "\n"
     ]
    }
   ],
   "source": [
    "parameters_rf = {\n",
    "        'clf__criterion': ('gini', 'entropy'),\n",
    "#        'clf__max_depth': (None, 10, 100),\n",
    "#        'clf__min_samples_leaf':(1,5,10)\n",
    "    }\n",
    "\n",
    "class_RF = my_pipeline(ensemble.RandomForestClassifier(n_jobs=-1, random_state=321),\n",
    "                       X_train_tfidf, X_test_tfidf, y_train_tfidf, y_test_tfidf,\n",
    "                       my_scorer, parameters_rf )"
   ]
  },
  {
   "cell_type": "code",
   "execution_count": 47,
   "metadata": {
    "collapsed": false
   },
   "outputs": [
    {
     "data": {
      "image/png": "[encoded data removed]",
      "text/plain": [
       "<matplotlib.figure.Figure at 0x127d42790>"
      ]
     },
     "metadata": {},
     "output_type": "display_data"
    },
    {
     "data": {
      "text/plain": [
       "array([[ 42,  32],\n",
       "       [  9, 460]])"
      ]
     },
     "execution_count": 47,
     "metadata": {},
     "output_type": "execute_result"
    }
   ],
   "source": [
    "print_cm(y_test_tfidf, class_RF.predict(X_test_tfidf) , ['H','N'])"
   ]
  },
  {
   "cell_type": "markdown",
   "metadata": {},
   "source": [
    "# Best model\n",
    "\n",
    "Best model is LogReg with weights = 'balanced' and C=10, using tfidf as features"
   ]
  },
  {
   "cell_type": "code",
   "execution_count": 49,
   "metadata": {
    "collapsed": false
   },
   "outputs": [
    {
     "data": {
      "image/png": "[encoded data removed]",
      "text/plain": [
       "<matplotlib.figure.Figure at 0x115618610>"
      ]
     },
     "metadata": {},
     "output_type": "display_data"
    },
    {
     "data": {
      "text/plain": [
       "array([[ 44,  30],\n",
       "       [ 76, 393]])"
      ]
     },
     "execution_count": 49,
     "metadata": {},
     "output_type": "execute_result"
    }
   ],
   "source": [
    "my_best = class_LR\n",
    "\n",
    "my_best_pred = my_best.predict(X_test_tfidf)\n",
    "\n",
    "print_cm(y_test, my_best_pred , ['H','N'])"
   ]
  },
  {
   "cell_type": "markdown",
   "metadata": {
    "deletable": true,
    "editable": true
   },
   "source": [
    "# Find  misclassified tweets"
   ]
  },
  {
   "cell_type": "code",
   "execution_count": 50,
   "metadata": {
    "collapsed": false,
    "deletable": true,
    "editable": true
   },
   "outputs": [
    {
     "data": {
      "text/plain": [
       "(3615, 13)"
      ]
     },
     "execution_count": 50,
     "metadata": {},
     "output_type": "execute_result"
    }
   ],
   "source": [
    "tw_data.shape"
   ]
  },
  {
   "cell_type": "code",
   "execution_count": 51,
   "metadata": {
    "collapsed": false,
    "deletable": true,
    "editable": true
   },
   "outputs": [
    {
     "data": {
      "text/html": [
       "<div>\n",
       "<style>\n",
       "    .dataframe thead tr:only-child th {\n",
       "        text-align: right;\n",
       "    }\n",
       "\n",
       "    .dataframe thead th {\n",
       "        text-align: left;\n",
       "    }\n",
       "\n",
       "    .dataframe tbody tr th {\n",
       "        vertical-align: top;\n",
       "    }\n",
       "</style>\n",
       "<table border=\"1\" class=\"dataframe\">\n",
       "  <thead>\n",
       "    <tr style=\"text-align: right;\">\n",
       "      <th></th>\n",
       "      <th>ID</th>\n",
       "      <th>Label</th>\n",
       "      <th>Texte</th>\n",
       "      <th>Texte_clean</th>\n",
       "      <th>nbr_characters</th>\n",
       "      <th>nbr_words</th>\n",
       "      <th>nbr_ats</th>\n",
       "      <th>nbr_hashtags</th>\n",
       "      <th>nbr_urls</th>\n",
       "      <th>nbr_letters</th>\n",
       "      <th>nbr_caps</th>\n",
       "      <th>nbr_fancy</th>\n",
       "      <th>Label_id</th>\n",
       "      <th>pred</th>\n",
       "    </tr>\n",
       "  </thead>\n",
       "  <tbody>\n",
       "    <tr>\n",
       "      <th>1391</th>\n",
       "      <td>1006608740563464192</td>\n",
       "      <td>H</td>\n",
       "      <td>@RaptorDissident Ce minable veut s'en prendre ...</td>\n",
       "      <td>ce minable veut s en prendre a des animaux il ...</td>\n",
       "      <td>152</td>\n",
       "      <td>28</td>\n",
       "      <td>1</td>\n",
       "      <td>0</td>\n",
       "      <td>0</td>\n",
       "      <td>110</td>\n",
       "      <td>4</td>\n",
       "      <td>0</td>\n",
       "      <td>0</td>\n",
       "      <td>1</td>\n",
       "    </tr>\n",
       "    <tr>\n",
       "      <th>862</th>\n",
       "      <td>1006502682310397952</td>\n",
       "      <td>N</td>\n",
       "      <td>@GG_RMC @BreizhManouchka Non, parce qu'il repa...</td>\n",
       "      <td>non parce qu il repartira en chercher d autres...</td>\n",
       "      <td>87</td>\n",
       "      <td>11</td>\n",
       "      <td>2</td>\n",
       "      <td>0</td>\n",
       "      <td>0</td>\n",
       "      <td>69</td>\n",
       "      <td>8</td>\n",
       "      <td>0</td>\n",
       "      <td>1</td>\n",
       "      <td>0</td>\n",
       "    </tr>\n",
       "  </tbody>\n",
       "</table>\n",
       "</div>"
      ],
      "text/plain": [
       "                       ID Label  \\\n",
       "1391  1006608740563464192     H   \n",
       "862   1006502682310397952     N   \n",
       "\n",
       "                                                  Texte  \\\n",
       "1391  @RaptorDissident Ce minable veut s'en prendre ...   \n",
       "862   @GG_RMC @BreizhManouchka Non, parce qu'il repa...   \n",
       "\n",
       "                                            Texte_clean  nbr_characters  \\\n",
       "1391  ce minable veut s en prendre a des animaux il ...             152   \n",
       "862   non parce qu il repartira en chercher d autres...              87   \n",
       "\n",
       "      nbr_words  nbr_ats  nbr_hashtags  nbr_urls  nbr_letters  nbr_caps  \\\n",
       "1391         28        1             0         0          110         4   \n",
       "862          11        2             0         0           69         8   \n",
       "\n",
       "      nbr_fancy  Label_id  pred  \n",
       "1391          0         0     1  \n",
       "862           0         1     0  "
      ]
     },
     "execution_count": 51,
     "metadata": {},
     "output_type": "execute_result"
    }
   ],
   "source": [
    "df_y_pred_err = pd.DataFrame([y_test]).transpose()\n",
    "df_y_pred_err['pred'] = my_best_pred\n",
    "\n",
    "#df_y['pred'] = y_preds_lr\n",
    "err_df = df_y_pred_err[df_y_pred_err['pred']!=df_y_pred_err['Label_id']]\n",
    "indexes = err_df.index\n",
    "\n",
    "\n",
    "df_wrong = pd.concat([tw_data.iloc[indexes,:],err_df.drop('Label_id', axis=1)], axis=1)\n",
    "\n",
    "df_wrong.head(2)"
   ]
  },
  {
   "cell_type": "code",
   "execution_count": 52,
   "metadata": {
    "collapsed": false,
    "deletable": true,
    "editable": true
   },
   "outputs": [
    {
     "data": {
      "text/plain": [
       "{'H': 0, 'N': 1}"
      ]
     },
     "execution_count": 52,
     "metadata": {},
     "output_type": "execute_result"
    }
   ],
   "source": [
    "# Reminder: categories. The problem is when Predicted=1 and Actual=0\n",
    "label_to_id_fr"
   ]
  },
  {
   "cell_type": "code",
   "execution_count": 53,
   "metadata": {
    "collapsed": false,
    "deletable": true,
    "editable": true
   },
   "outputs": [
    {
     "name": "stdout",
     "output_type": "stream",
     "text": [
      "@RaptorDissident Ce minable veut s'en prendre à des animaux, il n'a même pas un soupçon de courage. Il mérite de loin un coup de slash dans la tête\n",
      "ce minable veut s en prendre a des animaux il n a meme pas un soupcon de courage il merite de loin un coup de slash dans la tete\n",
      "\n",
      "Predicted: N , Actual: H \n",
      "\n",
      "\n",
      "\n",
      "@DNadjar @JacobCohen44 Tous au service de Netanyahu! Même les non juifs sont devenus sionistes. L’information est entre les mains du Mossad?\n",
      "tous au service de netanyahu meme les non juifs sont devenus sionistes l information est entre les mains du mossad\n",
      "\n",
      "Predicted: N , Actual: H \n",
      "\n",
      "\n",
      "\n",
      "Emeute chinoise à Paris. Voitures brûlées, attaque de commissariat … La sino-racaille est égale à la racaille africano-arabe. Immigration stop!\n",
      "emeute chinoise a paris voitures brulees attaque de commissariat la sino racaille est egale a la racaille africano arabe immigration stop\n",
      "\n",
      "Predicted: N , Actual: H \n",
      "\n",
      "\n",
      "\n",
      "@MLP_officiel EH MARINE ! TAGEUL !\n",
      "eh marine tageul\n",
      "\n",
      "Predicted: N , Actual: H \n",
      "\n",
      "\n",
      "\n",
      "@Hammoud33308783 @ForeverPeace16 Non tout le monde ne condamne pas. L’Égypte, la Jordanie, les saoudiens, les usa, les australiens, ... ne veulent plus entendre parler de ces ordures de djihadistes qui prennent leurs peuples en otage.\n",
      "non tout le monde ne condamne pas l egypte la jordanie les saoudiens les usa les australiens ne veulent plus entendre parler de ces ordures de djihadistes qui prennent leurs peuples en otage\n",
      "\n",
      "Predicted: N , Actual: H \n",
      "\n",
      "\n",
      "\n",
      "@JxSantini @KakkEto @MMAchille @laurentlokoli Laisse tomber @JxSantini tu as à un peuple de bobo soit disant humaniste qui se cague dessus se fait égorger dans la rue et organise des marchés blanche ...il detienne la vérité et donne des leçon à la terre entière et se font caguer dessus par la racaille .\n",
      "laisse tomber tu as a un peuple de bobo soit disant humaniste qui se cague dessus se fait egorger dans la rue et organise des marches blanche il detienne la verite et donne des lecon a la terre entiere et se font caguer dessus par la racaille\n",
      "\n",
      "Predicted: N , Actual: H \n",
      "\n",
      "\n",
      "\n",
      "@Mehd06 @SRA_92 @UnePipistrelle Sur ta Pp la trace c est ton pere qui S est branlé ?\n",
      "sur ta pp la trace c est ton pere qui s est branle\n",
      "\n",
      "Predicted: N , Actual: H \n",
      "\n",
      "\n",
      "\n",
      "Ls babtou ils connaitront jamais la sensation d’ouvrir le frigo et de voir une bouteille d’eau a coter du beurre derrière les restes du tieb dla veille coller au mitique pot de tomate concentré et du dernier yaourt que toute la fraterie se dispute😂🤦🏽‍♂️ #LaHessNousAMalmenée\n",
      "ls babtou ils connaitront jamais la sensation d ouvrir le frigo et de voir une bouteille d eau a coter du beurre derriere les restes du tieb dla veille coller au mitique pot de tomate concentre et du dernier yaourt que toute la fraterie se dispute lahessnousamalmenee\n",
      "\n",
      "Predicted: N , Actual: H \n",
      "\n",
      "\n",
      "\n",
      "@Abdoulaye_wad2 @krocblancc @FLucenet @Morilledu64 @LDNAOFFICIEL @Punchline_DCA Non, je vous laisse entre racistes. Je préfère les gens honnêtes. Continue de montrer que ton groupe n'est qu'une secte raciste. https://t.co/Mqwl4T02Vk\n",
      "non je vous laisse entre racistes je prefere les gens honnetes continue de montrer que ton groupe n est qu une secte raciste\n",
      "\n",
      "Predicted: N , Actual: H \n",
      "\n",
      "\n",
      "\n",
      "@Vanneur et quand on est aussi susceptible sur le principe de racisme, on dénonce aussi les autres. Mais non bien sûr, aucun \"racisme\" des arabo-musulmans contre les juifs, dans aucun pays musulman. avec le prétexte israélien.\n",
      "et quand on est aussi susceptible sur le principe de racisme on denonce aussi les autres mais non bien sur aucun racisme des arabo musulmans contre les juifs dans aucun pays musulman avec le pretexte israelien\n",
      "\n",
      "Predicted: N , Actual: H \n",
      "\n",
      "\n",
      "\n",
      "@disneyandother @EMIR_GLADIO @micheltrump1 Oui  laisse tomber tu vois pas que c’est un pauvre type raciste et sectaire qui ne sait même pas écrire correctement le français ! Il vit des provendes que la France lui donne et ce n’est que pour cela qu’il dit qu’il aime «  le drapeau «  français  encore une tique chez nous\n",
      "oui laisse tomber tu vois pas que c est un pauvre type raciste et sectaire qui ne sait meme pas ecrire correctement le francais il vit des provendes que la france lui donne et ce n est que pour cela qu il dit qu il aime le drapeau francais encore une tique chez nous\n",
      "\n",
      "Predicted: N , Actual: H \n",
      "\n",
      "\n",
      "\n",
      "Pour info, la NVA à une pride belge, c'est un peu comme si la FN était à une pride en France (d'ailleurs il y a des accointances entre les 2 partis) , c'est un sale parti de racistes nationalistes ! Cassez vous, vraiment https://t.co/88v1y5QO6N\n",
      "pour info la nva a une pride belge c est un peu comme si la fn etait a une pride en france d ailleurs il y a des accointances entre les partis c est un sale parti de racistes nationalistes cassez vous vraiment\n",
      "\n",
      "Predicted: N , Actual: H \n",
      "\n",
      "\n",
      "\n",
      "@GG_RMC Vu l'émission de raciste je connais déjà la réponse\n",
      "vu l emission de raciste je connais deja la reponse\n",
      "\n",
      "Predicted: N , Actual: H \n",
      "\n",
      "\n",
      "\n",
      "@NubianAngie Justement je vais pas en Afrique et je me moque de ces Africains qui massacrent leur congénère au coupe coupe et qui devraient faire de l'agriculture\n",
      "justement je vais pas en afrique et je me moque de ces africains qui massacrent leur congenere au coupe coupe et qui devraient faire de l agriculture\n",
      "\n",
      "Predicted: N , Actual: H \n",
      "\n",
      "\n",
      "\n",
      "@NubianAngie Bientôt plus personne n'ira en touristes en Afrique puisque L'Afrique est en France 🇫🇷 Quant à l'humanitaire débrouillez vous avec vos dirigeants Dictateurs qui se remplissent les poches et vous affament !! 👎👎😈😈👹\n",
      "bientot plus personne n ira en touristes en afrique puisque l afrique est en france quant a l humanitaire debrouillez vous avec vos dirigeants dictateurs qui se remplissent les poches et vous affament\n",
      "\n",
      "Predicted: N , Actual: H \n",
      "\n",
      "\n",
      "\n",
      "Les rebeus sous ce tweet ils sont drôles h39 « original Netflix serie » et compagnie Mais hier pour un « j’comprends po », ça m’as lâcher « a l’esclavage zoumana » toute la soirée https://t.co/YigKu9vj7O\n",
      "les rebeus sous ce tweet ils sont droles h original netflix serie et compagnie mais hier pour un j comprends po ca m as lacher a l esclavage zoumana toute la soiree\n",
      "\n",
      "Predicted: N , Actual: H \n",
      "\n",
      "\n",
      "\n",
      "Cardi B ses darons sont White as fuck mais ici ça l’a Drag pcq elle n’affirme pas sa négritude qu’elle tient de ses arrières arrière grand parents wsh. Les noirs avec leur complexe d’infériorité, flm tjs à vouloir obliger autrui à affirmer une identité dont They don’t give a shit\n",
      "cardi b ses darons sont white as fuck mais ici ca l a drag pcq elle n affirme pas sa negritude qu elle tient de ses arrieres arriere grand parents wsh les noirs avec leur complexe d inferiorite flm tjs a vouloir obliger autrui a affirmer une identite dont they don t give a shit\n",
      "\n",
      "Predicted: N , Actual: H \n",
      "\n",
      "\n",
      "\n",
      "@djidhem @F_Desouche Nous on éduque nos enfants, on ne les met pas dans la rue pour qu’ils deviennent de la racaille tout en profitant des alocs\n",
      "nous on eduque nos enfants on ne les met pas dans la rue pour qu ils deviennent de la racaille tout en profitant des alocs\n",
      "\n",
      "Predicted: N , Actual: H \n",
      "\n",
      "\n",
      "\n",
      "Plus d'argument? Et surtout, je ne suis pas d'ultra gauche. Certainement pas. Juste un humaniste. Mais vous, vous êtes l'un des derniers esclavagistes modernes, un nostalgique des négriers, qui sent le fouet, la sueur, l'alcool et le tabac. Vous puez la haine et le racisme social https://t.co/wT2qGCCBqA\n",
      "plus d argument et surtout je ne suis pas d ultra gauche certainement pas juste un humaniste mais vous vous etes l un des derniers esclavagistes modernes un nostalgique des negriers qui sent le fouet la sueur l alcool et le tabac vous puez la haine et le racisme social\n",
      "\n",
      "Predicted: N , Actual: H \n",
      "\n",
      "\n",
      "\n",
      "@NubianAngie Butine tes grands morts sale crevure, t'es qui pour dire aux autres ce qu'ils doivent faire ? D'où tu parles francais, d'où t'utilises twitter ?\n",
      "butine tes grands morts sale crevure t es qui pour dire aux autres ce qu ils doivent faire d ou tu parles francais d ou t utilises twitter\n",
      "\n",
      "Predicted: N , Actual: H \n",
      "\n",
      "\n",
      "\n",
      "@MLP_officiel Pour une fois de plus, Ferme ta gueule de requin conasse 🙏🏽🙏🏽 stp\n",
      "pour une fois de plus ferme ta gueule de requin conasse stp\n",
      "\n",
      "Predicted: N , Actual: H \n",
      "\n",
      "\n",
      "\n",
      "Je te foutré ça dehors à coup de pied dans le c..l .....Ne te fait pas de soucis si c'était un nazi il y a déjà longtemps qu'il serait étendu le lascar https://t.co/cgrpF75FxZ\n",
      "je te foutre ca dehors a coup de pied dans le c l ne te fait pas de soucis si c etait un nazi il y a deja longtemps qu il serait etendu le lascar\n",
      "\n",
      "Predicted: N , Actual: H \n",
      "\n",
      "\n",
      "\n",
      "@4c05942ab5784b0 @hollandenul @Olivier_Timon @demontvalon1 Encore le méchant blanc amusant mais ceux qui commettent des attentats ne respectent pas les valeurs républicaines laïques,tuent tt ce qui n'est pas musulman ou arabe! qui veulent imposer leur religion mortifère obscurantisme génocidaire raciste c'est vs! https://t.co/bXKJ8oEK53\n",
      "encore le mechant blanc amusant mais ceux qui commettent des attentats ne respectent pas les valeurs republicaines laiques tuent tt ce qui n est pas musulman ou arabe qui veulent imposer leur religion mortifere obscurantisme genocidaire raciste c est vs\n",
      "\n",
      "Predicted: N , Actual: H \n",
      "\n",
      "\n",
      "\n",
      "@NubianAngie Pauvre imbécile ...\n",
      "pauvre imbecile\n",
      "\n",
      "Predicted: N , Actual: H \n",
      "\n",
      "\n",
      "\n",
      "@EMIR_GLADIO @micheltrump1 C clair . Restes ou retournes dans ton pays de menteurs et d assassins , sans les américains israel n est rien . RIEN . toute cette extrême droite israelienne me fait gerber . Vive la Palestine . Et puis vous êtes débarrassé de la racaille ? Quand vos soldats se prennent une 1/2\n",
      "c clair restes ou retournes dans ton pays de menteurs et d assassins sans les americains israel n est rien rien toute cette extreme droite israelienne me fait gerber vive la palestine et puis vous etes debarrasse de la racaille quand vos soldats se prennent une\n",
      "\n",
      "Predicted: N , Actual: H \n",
      "\n",
      "\n",
      "\n",
      "@MLP_officiel Elle pue tellement du fion elle\n",
      "elle pue tellement du fion elle\n",
      "\n",
      "Predicted: N , Actual: H \n",
      "\n",
      "\n",
      "\n",
      "@NubianAngie On va vous laisser vous débrouiller seuls, ok. Puisque vous crachez même sur les gens qui consacrent leur temps et parfois leur vie à aider des enfants dans ces pays. Allez vomir votre haine du blanc ailleurs. Je ne suis pas dupe de votre fau\n",
      "on va vous laisser vous debrouiller seuls ok puisque vous crachez meme sur les gens qui consacrent leur temps et parfois leur vie a aider des enfants dans ces pays allez vomir votre haine du blanc ailleurs je ne suis pas dupe de votre fau\n",
      "\n",
      "Predicted: N , Actual: H \n",
      "\n",
      "\n",
      "\n",
      "Vous croyez que j'aime pas 99% des arabes pourquoi ? Des vrais racistes qui font genre de sourire avec nous. Sale race va ! J'en ai rien à faire de ce que vous allez dire le tweet sera masque bande de fdp, il a raison vous allez brûler x648 en enfer imbeciles, race impure !\n",
      "vous croyez que j aime pas des arabes pourquoi des vrais racistes qui font genre de sourire avec nous sale race va j en ai rien a faire de ce que vous allez dire le tweet sera masque bande de fis de pute il a raison vous allez bruler x en enfer imbeciles race impure\n",
      "\n",
      "Predicted: N , Actual: H \n",
      "\n",
      "\n",
      "\n",
      "Y’en a marre de laisser ces fils p*** de lache de terroristes judaïste nazi. Le monde les regarde et les laisse mourrir sans que personne réagisse. #honte aux gouvernements du monde https://t.co/QaUl2uEHoj\n",
      "y en a marre de laisser ces fils p de lache de terroristes judaiste nazi le monde les regarde et les laisse mourrir sans que personne reagisse honte aux gouvernements du monde\n",
      "\n",
      "Predicted: N , Actual: H \n",
      "\n",
      "\n",
      "\n",
      "Il est temps, amis patriotes, de montrer que nous sommes capables de faire couler du sang. Kidnappons une voilée dans la rue et coupons lui la tête devant son mari et ses 19 enfants.\n",
      "il est temps amis patriotes de montrer que nous sommes capables de faire couler du sang kidnappons une voilee dans la rue et coupons lui la tete devant son mari et ses enfants\n",
      "\n",
      "Predicted: N , Actual: H \n",
      "\n",
      "\n",
      "\n"
     ]
    }
   ],
   "source": [
    "for index,row in df_wrong.iterrows():\n",
    "    if (row['pred']==1) and (row['Label_id']==0):\n",
    "        print(row['Texte'])\n",
    "        print(row['Texte_clean'])\n",
    "        print('')\n",
    "        print('Predicted: %s , Actual: %s \\n' %( 'N', 'H'))\n",
    "        print('\\n')"
   ]
  },
  {
   "cell_type": "markdown",
   "metadata": {
    "deletable": true,
    "editable": true
   },
   "source": [
    "#  Visualise 2-dim PCA (inutile)"
   ]
  },
  {
   "cell_type": "code",
   "execution_count": 54,
   "metadata": {
    "collapsed": false,
    "deletable": true,
    "editable": true
   },
   "outputs": [
    {
     "data": {
      "text/plain": [
       "(3072, 2)"
      ]
     },
     "execution_count": 54,
     "metadata": {},
     "output_type": "execute_result"
    },
    {
     "data": {
      "text/plain": [
       "(3072,)"
      ]
     },
     "execution_count": 54,
     "metadata": {},
     "output_type": "execute_result"
    }
   ],
   "source": [
    "from sklearn.decomposition import PCA, RandomizedPCA\n",
    "\n",
    "n_components = 2\n",
    "pca = PCA(n_components=n_components, whiten=True).fit(X_train)\n",
    "\n",
    "X_train_pca = pca.transform(X_train)\n",
    "X_test_pca = pca.transform(X_test)\n",
    "\n",
    "X_train_pca.shape\n",
    "y_train.shape"
   ]
  },
  {
   "cell_type": "code",
   "execution_count": 55,
   "metadata": {
    "collapsed": false,
    "deletable": true,
    "editable": true
   },
   "outputs": [
    {
     "data": {
      "text/html": [
       "<div>\n",
       "<style>\n",
       "    .dataframe thead tr:only-child th {\n",
       "        text-align: right;\n",
       "    }\n",
       "\n",
       "    .dataframe thead th {\n",
       "        text-align: left;\n",
       "    }\n",
       "\n",
       "    .dataframe tbody tr th {\n",
       "        vertical-align: top;\n",
       "    }\n",
       "</style>\n",
       "<table border=\"1\" class=\"dataframe\">\n",
       "  <thead>\n",
       "    <tr style=\"text-align: right;\">\n",
       "      <th></th>\n",
       "      <th>P1</th>\n",
       "      <th>P2</th>\n",
       "      <th>Label</th>\n",
       "    </tr>\n",
       "  </thead>\n",
       "  <tbody>\n",
       "    <tr>\n",
       "      <th>0</th>\n",
       "      <td>-0.587790</td>\n",
       "      <td>0.059748</td>\n",
       "      <td>0.0</td>\n",
       "    </tr>\n",
       "    <tr>\n",
       "      <th>1</th>\n",
       "      <td>0.926788</td>\n",
       "      <td>-0.316161</td>\n",
       "      <td>0.0</td>\n",
       "    </tr>\n",
       "    <tr>\n",
       "      <th>2</th>\n",
       "      <td>1.392572</td>\n",
       "      <td>-0.435432</td>\n",
       "      <td>1.0</td>\n",
       "    </tr>\n",
       "    <tr>\n",
       "      <th>3</th>\n",
       "      <td>1.446928</td>\n",
       "      <td>-0.824411</td>\n",
       "      <td>1.0</td>\n",
       "    </tr>\n",
       "    <tr>\n",
       "      <th>4</th>\n",
       "      <td>-1.249442</td>\n",
       "      <td>-0.324263</td>\n",
       "      <td>1.0</td>\n",
       "    </tr>\n",
       "  </tbody>\n",
       "</table>\n",
       "</div>"
      ],
      "text/plain": [
       "         P1        P2  Label\n",
       "0 -0.587790  0.059748    0.0\n",
       "1  0.926788 -0.316161    0.0\n",
       "2  1.392572 -0.435432    1.0\n",
       "3  1.446928 -0.824411    1.0\n",
       "4 -1.249442 -0.324263    1.0"
      ]
     },
     "execution_count": 55,
     "metadata": {},
     "output_type": "execute_result"
    }
   ],
   "source": [
    "tw_data_pca = pd.DataFrame(data=np.append(X_train_pca, y_train.reshape(y_train.shape[0],1), axis=1), columns=['P1','P2','Label'])\n",
    "\n",
    "tw_data_pca.head(5)"
   ]
  },
  {
   "cell_type": "code",
   "execution_count": 56,
   "metadata": {
    "collapsed": false,
    "deletable": true,
    "editable": true
   },
   "outputs": [
    {
     "data": {
      "text/plain": [
       "<seaborn.axisgrid.FacetGrid at 0x12879cc50>"
      ]
     },
     "execution_count": 56,
     "metadata": {},
     "output_type": "execute_result"
    },
    {
     "data": {
      "image/png": "[encoded data removed]",
      "text/plain": [
       "<matplotlib.figure.Figure at 0x12879ca50>"
      ]
     },
     "metadata": {},
     "output_type": "display_data"
    }
   ],
   "source": [
    "\n",
    "sns.lmplot(x=\"P1\", y=\"P2\", data=tw_data_pca, fit_reg=False, hue='Label', legend=True, markers=[\"o\", \"x\"], palette=\"Set2\")\n",
    "\n"
   ]
  },
  {
   "cell_type": "code",
   "execution_count": null,
   "metadata": {
    "collapsed": true,
    "deletable": true,
    "editable": true
   },
   "outputs": [],
   "source": []
  }
 ],
 "metadata": {
  "kernelspec": {
   "display_name": "Python 2",
   "language": "python",
   "name": "python2"
  },
  "language_info": {
   "codemirror_mode": {
    "name": "ipython",
    "version": 2
   },
   "file_extension": ".py",
   "mimetype": "text/x-python",
   "name": "python",
   "nbconvert_exporter": "python",
   "pygments_lexer": "ipython2",
   "version": "2.7.13"
  }
 },
 "nbformat": 4,
 "nbformat_minor": 2
}
