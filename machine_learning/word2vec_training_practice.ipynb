{
 "cells": [
  {
   "cell_type": "markdown",
   "metadata": {
    "deletable": true,
    "editable": true
   },
   "source": [
    "### Word2Vec training "
   ]
  },
  {
   "cell_type": "code",
   "execution_count": 205,
   "metadata": {
    "collapsed": false,
    "deletable": true,
    "editable": true
   },
   "outputs": [],
   "source": [
    "# imports needed\n",
    "import gensim \n",
    "import pandas as pd\n",
    "import numpy as np\n",
    "import random\n",
    "import unidecode\n",
    "import re\n",
    "import nltk\n",
    "from nltk.tokenize import WordPunctTokenizer\n",
    "from nltk.tokenize.regexp import RegexpTokenizer\n",
    "from sklearn.feature_extraction.text import TfidfVectorizer\n",
    "from bs4 import BeautifulSoup\n",
    "from  nltk.stem.snowball import FrenchStemmer, EnglishStemmer\n",
    "from collections import defaultdict\n",
    "import matplotlib.pyplot as plt\n",
    "%matplotlib inline\n",
    "import seaborn as sns\n",
    "\n",
    "\n",
    "\n",
    "import warnings\n",
    "warnings.filterwarnings('ignore')\n",
    "from IPython.core.interactiveshell import InteractiveShell\n",
    "InteractiveShell.ast_node_interactivity = \"all\"\n"
   ]
  },
  {
   "cell_type": "markdown",
   "metadata": {
    "deletable": true,
    "editable": true
   },
   "source": [
    "#### 1 load and clean tweets"
   ]
  },
  {
   "cell_type": "code",
   "execution_count": 208,
   "metadata": {
    "collapsed": false,
    "deletable": true,
    "editable": true
   },
   "outputs": [
    {
     "data": {
      "text/html": [
       "<div>\n",
       "<style>\n",
       "    .dataframe thead tr:only-child th {\n",
       "        text-align: right;\n",
       "    }\n",
       "\n",
       "    .dataframe thead th {\n",
       "        text-align: left;\n",
       "    }\n",
       "\n",
       "    .dataframe tbody tr th {\n",
       "        vertical-align: top;\n",
       "    }\n",
       "</style>\n",
       "<table border=\"1\" class=\"dataframe\">\n",
       "  <thead>\n",
       "    <tr style=\"text-align: right;\">\n",
       "      <th></th>\n",
       "      <th>tweet</th>\n",
       "    </tr>\n",
       "  </thead>\n",
       "  <tbody>\n",
       "    <tr>\n",
       "      <th>997565477458243584</th>\n",
       "      <td>@AngeFreddy Pouloulouuuu</td>\n",
       "    </tr>\n",
       "    <tr>\n",
       "      <th>957325640465862656</th>\n",
       "      <td>@R0eil Nan😂</td>\n",
       "    </tr>\n",
       "    <tr>\n",
       "      <th>1006280333573181441</th>\n",
       "      <td>@Coldmindxd LAQUELLE.</td>\n",
       "    </tr>\n",
       "    <tr>\n",
       "      <th>834864840359473157</th>\n",
       "      <td>Je me dis que dans 20 ans, j'ai 40 ans 🤔🤔</td>\n",
       "    </tr>\n",
       "    <tr>\n",
       "      <th>1005911475934912522</th>\n",
       "      <td>Le mieux qu’ils puissent faire ... https://t.c...</td>\n",
       "    </tr>\n",
       "  </tbody>\n",
       "</table>\n",
       "</div>"
      ],
      "text/plain": [
       "                                                                 tweet\n",
       "997565477458243584                            @AngeFreddy Pouloulouuuu\n",
       "957325640465862656                                        @R0eil Nan😂\n",
       "1006280333573181441                              @Coldmindxd LAQUELLE.\n",
       "834864840359473157         Je me dis que dans 20 ans, j'ai 40 ans 🤔🤔\n",
       "1005911475934912522  Le mieux qu’ils puissent faire ... https://t.c..."
      ]
     },
     "execution_count": 208,
     "metadata": {},
     "output_type": "execute_result"
    }
   ],
   "source": [
    "filename='/Users/Michi/Google Drive/formation_data_science/twitter_project/help_dicrah/machine_learning/tweets_dilcrah_60k.csv'\n",
    "#Streams/stream_#Web2day OR #aidessociales.jsonl'\n",
    "#Users/help_dicrah_large_random_sample.jsonl'\n",
    "\n",
    "def read_json_files(path_to_file):\n",
    "    with open(path_to_file) as p:\n",
    "        data = pd.read_json(p, lines=True)\n",
    "    return data\n",
    "\n",
    "#df = read_json_files(filename)\n",
    "df = pd.read_csv(filename, header=None,\n",
    "                 names=['tweet'], index_col=None)#.drop_duplicates(subset='id')\n",
    "\n",
    "df.head()"
   ]
  },
  {
   "cell_type": "code",
   "execution_count": 209,
   "metadata": {
    "collapsed": false,
    "deletable": true,
    "editable": true
   },
   "outputs": [
    {
     "data": {
      "text/html": [
       "<div>\n",
       "<style>\n",
       "    .dataframe thead tr:only-child th {\n",
       "        text-align: right;\n",
       "    }\n",
       "\n",
       "    .dataframe thead th {\n",
       "        text-align: left;\n",
       "    }\n",
       "\n",
       "    .dataframe tbody tr th {\n",
       "        vertical-align: top;\n",
       "    }\n",
       "</style>\n",
       "<table border=\"1\" class=\"dataframe\">\n",
       "  <thead>\n",
       "    <tr style=\"text-align: right;\">\n",
       "      <th></th>\n",
       "      <th>tweet</th>\n",
       "    </tr>\n",
       "  </thead>\n",
       "  <tbody>\n",
       "    <tr>\n",
       "      <th>997565477458243584</th>\n",
       "      <td>@AngeFreddy Pouloulouuuu</td>\n",
       "    </tr>\n",
       "    <tr>\n",
       "      <th>957325640465862656</th>\n",
       "      <td>@R0eil Nan😂</td>\n",
       "    </tr>\n",
       "    <tr>\n",
       "      <th>1006280333573181441</th>\n",
       "      <td>@Coldmindxd LAQUELLE.</td>\n",
       "    </tr>\n",
       "    <tr>\n",
       "      <th>834864840359473157</th>\n",
       "      <td>Je me dis que dans 20 ans, j'ai 40 ans 🤔🤔</td>\n",
       "    </tr>\n",
       "    <tr>\n",
       "      <th>1005911475934912522</th>\n",
       "      <td>Le mieux qu’ils puissent faire ... https://t.c...</td>\n",
       "    </tr>\n",
       "  </tbody>\n",
       "</table>\n",
       "</div>"
      ],
      "text/plain": [
       "                                                                 tweet\n",
       "997565477458243584                            @AngeFreddy Pouloulouuuu\n",
       "957325640465862656                                        @R0eil Nan😂\n",
       "1006280333573181441                              @Coldmindxd LAQUELLE.\n",
       "834864840359473157         Je me dis que dans 20 ans, j'ai 40 ans 🤔🤔\n",
       "1005911475934912522  Le mieux qu’ils puissent faire ... https://t.c..."
      ]
     },
     "execution_count": 209,
     "metadata": {},
     "output_type": "execute_result"
    },
    {
     "name": "stdout",
     "output_type": "stream",
     "text": [
      "@americanflagusa @Philome17321717 Grace au grand Mufti fossoyeur de la Françe https://t.co/vZbOcJ1zwo\n"
     ]
    },
    {
     "data": {
      "text/plain": [
       "(47199, 1)"
      ]
     },
     "execution_count": 209,
     "metadata": {},
     "output_type": "execute_result"
    }
   ],
   "source": [
    "#print(df.tweet[np.random.randint(0,df.shape[0])])\n",
    "#df = df[['id','full_text']].drop_duplicates(subset='id')\n",
    "df.head()\n",
    "print(df.tweet[58])\n",
    "df.shape"
   ]
  },
  {
   "cell_type": "code",
   "execution_count": 213,
   "metadata": {
    "collapsed": false,
    "deletable": true,
    "editable": true
   },
   "outputs": [],
   "source": [
    "\n",
    "my_dict={\"aujourd'hui\":\"aujourdhui\", \"s'il\":\"si il\", \"s'\":\"se \",\"n'\":\"ne \", 'jte':\"je te\", 'pck':'parce que', 'jms':'jamais',\n",
    "        'fdp': 'fis de pute', 'ptn': 'putaine', 'pcq':'parce que', 'tt ': 'toute', 'vrmt': 'vraiment',\n",
    "         \"m'a'\": 'me a','ptdr':\" plie tordu de rire\", \"c'est\":\"ce est\",\"m'\":\"me \", \"jrnee\":\"jourrnee\"}\n",
    "\n",
    "\n",
    "def tweet_cleaner(text, my_dict):\n",
    "        \n",
    "    # fixes encoding problem (MICHELE)\n",
    "    if type(text)!=unicode and type(text)!=float:\n",
    "        try: \n",
    "            text= unicode(text,'utf-8')\n",
    "        except UnicodeDecodeError: \n",
    "            text= unicode(text,'latin-1')\n",
    "    if type(text)==float:\n",
    "        text = str(text)\n",
    "    \n",
    "    tok = WordPunctTokenizer()\n",
    "\n",
    "    pat1 = r'@[A-Za-z0-9_]+'\n",
    "    pat2 = r'https?://[^ ]+'\n",
    "    combined_pat = r'|'.join((pat1, pat2))\n",
    "    www_pat = r'www.[^ ]+'\n",
    "    rt_path = r'^rt'\n",
    "    paths =  [combined_pat, www_pat,rt_path ]\n",
    "    \n",
    "        \n",
    "    text = unidecode.unidecode(text)\n",
    "    soup = BeautifulSoup(text, 'lxml')\n",
    "    souped = soup.get_text()\n",
    "    \n",
    "    for word in my_dict:\n",
    "        souped = re.sub(word, my_dict[word], souped)\n",
    "    \n",
    "    try:\n",
    "        bom_removed = souped.decode(\"utf-8-sig\").replace(u\"\\ufffd\", \"?\")\n",
    "    except:\n",
    "        bom_removed = souped\n",
    "    \n",
    "    for path in paths:\n",
    "        bom_removed = re.sub(path, '', bom_removed.lower())\n",
    "    \n",
    "    letters_only = re.sub(\"[^a-zA-Z]\", \" \", bom_removed)\n",
    "    \n",
    " \n",
    "    # During the letters_only process two lines above, it has created unnecessay white spaces,\n",
    "    # I will tokenize and join together to remove unneccessary white spaces\n",
    "    words = [x for x  in tok.tokenize(letters_only) if len(x) >= 1]\n",
    "    return (\" \".join(words)).strip()\n",
    "\n",
    "\n",
    "def tokenize(text):\n",
    "    tweet = \" \".join(re.split(\"[^a-zA-Z]*\", text.lower())).strip()\n",
    "    stemmer = FrenchStemmer()\n",
    "    tokens = [stemmer.stem(t) for t in tweet.split() if len(stemmer.stem(t))>2 ]\n",
    "    return tokens\n",
    "\n",
    "def generate_stopwords():\n",
    "    stopwords_en = nltk.corpus.stopwords.words(\"english\")\n",
    "    stopwords_fr = nltk.corpus.stopwords.words(\"french\")\n",
    "    stop_words = stopwords_en+stopwords_fr\n",
    "    #other_exclusions = [\"#ff\", \"ff\", \"rt\"]\n",
    "    #stop_words.extend(other_exclusions)\n",
    "    return stop_words\n",
    "\n",
    "def remove_stopwords(text_list, sw):\n",
    "    return [word for word in text_list if word not in sw]"
   ]
  },
  {
   "cell_type": "code",
   "execution_count": 214,
   "metadata": {
    "collapsed": false,
    "deletable": true,
    "editable": true
   },
   "outputs": [
    {
     "name": "stdout",
     "output_type": "stream",
     "text": [
      "@orlane_fow T'aimes pas que moi aux dernières nouvelles #mercredi\n"
     ]
    },
    {
     "data": {
      "text/plain": [
       "u't aimes pas que moi aux dernieres nouvelles mercredi'"
      ]
     },
     "execution_count": 214,
     "metadata": {},
     "output_type": "execute_result"
    }
   ],
   "source": [
    "text=df.tweet[np.random.randint(0,df.shape[0])]\n",
    "print(text)\n",
    "tweet_cleaner(text, my_dict)"
   ]
  },
  {
   "cell_type": "code",
   "execution_count": 215,
   "metadata": {
    "collapsed": false,
    "deletable": true,
    "editable": true
   },
   "outputs": [
    {
     "data": {
      "text/plain": [
       "(47199, 2)"
      ]
     },
     "execution_count": 215,
     "metadata": {},
     "output_type": "execute_result"
    },
    {
     "data": {
      "text/html": [
       "<div>\n",
       "<style>\n",
       "    .dataframe thead tr:only-child th {\n",
       "        text-align: right;\n",
       "    }\n",
       "\n",
       "    .dataframe thead th {\n",
       "        text-align: left;\n",
       "    }\n",
       "\n",
       "    .dataframe tbody tr th {\n",
       "        vertical-align: top;\n",
       "    }\n",
       "</style>\n",
       "<table border=\"1\" class=\"dataframe\">\n",
       "  <thead>\n",
       "    <tr style=\"text-align: right;\">\n",
       "      <th></th>\n",
       "      <th>tweet</th>\n",
       "      <th>clean_tweets</th>\n",
       "    </tr>\n",
       "  </thead>\n",
       "  <tbody>\n",
       "    <tr>\n",
       "      <th>997565477458243584</th>\n",
       "      <td>@AngeFreddy Pouloulouuuu</td>\n",
       "      <td>pouloulouuuu</td>\n",
       "    </tr>\n",
       "    <tr>\n",
       "      <th>957325640465862656</th>\n",
       "      <td>@R0eil Nan😂</td>\n",
       "      <td>nan</td>\n",
       "    </tr>\n",
       "    <tr>\n",
       "      <th>1006280333573181441</th>\n",
       "      <td>@Coldmindxd LAQUELLE.</td>\n",
       "      <td>laquel</td>\n",
       "    </tr>\n",
       "    <tr>\n",
       "      <th>834864840359473157</th>\n",
       "      <td>Je me dis que dans 20 ans, j'ai 40 ans 🤔🤔</td>\n",
       "      <td>dis dan</td>\n",
       "    </tr>\n",
       "    <tr>\n",
       "      <th>1005911475934912522</th>\n",
       "      <td>Le mieux qu’ils puissent faire ... https://t.c...</td>\n",
       "      <td>mieux puissent fair</td>\n",
       "    </tr>\n",
       "  </tbody>\n",
       "</table>\n",
       "</div>"
      ],
      "text/plain": [
       "                                                                 tweet  \\\n",
       "997565477458243584                            @AngeFreddy Pouloulouuuu   \n",
       "957325640465862656                                        @R0eil Nan😂   \n",
       "1006280333573181441                              @Coldmindxd LAQUELLE.   \n",
       "834864840359473157         Je me dis que dans 20 ans, j'ai 40 ans 🤔🤔   \n",
       "1005911475934912522  Le mieux qu’ils puissent faire ... https://t.c...   \n",
       "\n",
       "                            clean_tweets  \n",
       "997565477458243584          pouloulouuuu  \n",
       "957325640465862656                   nan  \n",
       "1006280333573181441               laquel  \n",
       "834864840359473157               dis dan  \n",
       "1005911475934912522  mieux puissent fair  "
      ]
     },
     "execution_count": 215,
     "metadata": {},
     "output_type": "execute_result"
    }
   ],
   "source": [
    "#clean_tweets = [tweet_cleaner(str(tweet), my_dict) for tweet in list(df['full_text'])]\n",
    "\n",
    "df['clean_tweets'] = df.tweet.apply(lambda x:' '.join(remove_stopwords(tokenize(tweet_cleaner(x, my_dict)), generate_stopwords())))\n",
    "\n",
    "#df['clean_tweets'] = clean_tweets\n",
    "df.shape\n",
    "df.head(5)"
   ]
  },
  {
   "cell_type": "code",
   "execution_count": 216,
   "metadata": {
    "collapsed": false,
    "deletable": true,
    "editable": true
   },
   "outputs": [
    {
     "data": {
      "text/plain": [
       "(36570, 2)"
      ]
     },
     "execution_count": 216,
     "metadata": {},
     "output_type": "execute_result"
    }
   ],
   "source": [
    "df =df.drop_duplicates(subset='clean_tweets')\n",
    "df.shape"
   ]
  },
  {
   "cell_type": "code",
   "execution_count": 217,
   "metadata": {
    "collapsed": false,
    "deletable": true,
    "editable": true
   },
   "outputs": [
    {
     "data": {
      "text/plain": [
       "(36569, 2)"
      ]
     },
     "execution_count": 217,
     "metadata": {},
     "output_type": "execute_result"
    }
   ],
   "source": [
    "df['nc'] = [len(t) for t in df.clean_tweets]\n",
    "df = df.drop(df[df.nc < 2].index).drop('nc', axis=1)\n",
    "df.shape"
   ]
  },
  {
   "cell_type": "markdown",
   "metadata": {
    "deletable": true,
    "editable": true
   },
   "source": [
    "#### 2 Word2Vec representation"
   ]
  },
  {
   "cell_type": "code",
   "execution_count": 218,
   "metadata": {
    "collapsed": false,
    "deletable": true,
    "editable": true
   },
   "outputs": [
    {
     "name": "stdout",
     "output_type": "stream",
     "text": [
      "[[u'pouloulouuuu'], [u'nan'], [u'laquel']]\n"
     ]
    }
   ],
   "source": [
    "# list of list of words\n",
    "documents = [tokenize(tweet) for tweet in list(df['clean_tweets'])]\n",
    "#for tweet in list(df['clean_tweets']):\n",
    "#    documents.append(tweet.split())\n",
    "\n",
    "print(documents[:3])"
   ]
  },
  {
   "cell_type": "code",
   "execution_count": 219,
   "metadata": {
    "collapsed": false,
    "deletable": true,
    "editable": true
   },
   "outputs": [
    {
     "data": {
      "text/plain": [
       "(2909082, 3021970)"
      ]
     },
     "execution_count": 219,
     "metadata": {},
     "output_type": "execute_result"
    }
   ],
   "source": [
    "model = gensim.models.Word2Vec(documents, size=200, window=10, min_count=1, workers=10)\n",
    "model.train(documents, total_examples=len(documents), epochs=10)"
   ]
  },
  {
   "cell_type": "code",
   "execution_count": 220,
   "metadata": {
    "collapsed": false,
    "deletable": true,
    "editable": true
   },
   "outputs": [
    {
     "name": "stdout",
     "output_type": "stream",
     "text": [
      "('mots proches de ', 'put')\n"
     ]
    },
    {
     "data": {
      "text/plain": [
       "[(u'fis', 0.9348027110099792),\n",
       " (u'epicgam', 0.9235101938247681),\n",
       " (u'fil', 0.9152531623840332),\n",
       " (u'sal', 0.912577748298645),\n",
       " (u'dton', 0.906657338142395)]"
      ]
     },
     "execution_count": 220,
     "metadata": {},
     "output_type": "execute_result"
    }
   ],
   "source": [
    "w = \"put\"\n",
    "print(\"mots proches de \", w)\n",
    "model.wv.most_similar(positive=w, topn=5)"
   ]
  },
  {
   "cell_type": "markdown",
   "metadata": {
    "deletable": true,
    "editable": true
   },
   "source": [
    "#### 3 Word2Vec features"
   ]
  },
  {
   "cell_type": "code",
   "execution_count": 221,
   "metadata": {
    "collapsed": false,
    "deletable": true,
    "editable": true
   },
   "outputs": [],
   "source": [
    "# dictionary mapping word --> 150-dimensional vector \n",
    "w2v = dict(zip(model.wv.index2word, model.wv.syn0))"
   ]
  },
  {
   "cell_type": "code",
   "execution_count": 172,
   "metadata": {
    "collapsed": false,
    "deletable": true,
    "editable": true
   },
   "outputs": [],
   "source": [
    "# w2v.keys()"
   ]
  },
  {
   "cell_type": "code",
   "execution_count": null,
   "metadata": {
    "collapsed": true,
    "deletable": true,
    "editable": true
   },
   "outputs": [],
   "source": []
  },
  {
   "cell_type": "code",
   "execution_count": 222,
   "metadata": {
    "collapsed": false,
    "deletable": true,
    "editable": true
   },
   "outputs": [],
   "source": [
    "class TfidfEmbeddingVectorizer(object):\n",
    "    \n",
    "    def __init__(self, word2vec):\n",
    "        self.word2vec = word2vec\n",
    "        self.word2weight = None\n",
    "        self.dim = len(word2vec.itervalues().next())\n",
    "\n",
    "    def fit(self, X):\n",
    "        tfidf = TfidfVectorizer()\n",
    "        tfidf.fit(X)\n",
    "        # if a word was never seen - it must be at least as infrequent\n",
    "        # as any of the known words - so the default idf is the max of \n",
    "        # known idf's\n",
    "        max_idf = max(tfidf.idf_)\n",
    "        print(max_idf)\n",
    "        self.word2weight = defaultdict(\n",
    "            lambda: max_idf,\n",
    "            [(w, tfidf.idf_[i]) for w, i in tfidf.vocabulary_.items()])\n",
    "\n",
    "        return self\n",
    "\n",
    "    def transform(self, X):\n",
    "        return np.array([\n",
    "                np.mean([self.word2vec[w] * self.word2weight[w]\n",
    "                         for w in words.split(' ') if w in self.word2vec] or\n",
    "                        [np.zeros(self.dim)], axis=0)\n",
    "                for words in X\n",
    "            ])"
   ]
  },
  {
   "cell_type": "code",
   "execution_count": 223,
   "metadata": {
    "collapsed": false,
    "deletable": true,
    "editable": true
   },
   "outputs": [
    {
     "data": {
      "text/plain": [
       "N    801\n",
       "S    199\n",
       "Name: Label, dtype: int64"
      ]
     },
     "execution_count": 223,
     "metadata": {},
     "output_type": "execute_result"
    },
    {
     "data": {
      "text/html": [
       "<div>\n",
       "<style>\n",
       "    .dataframe thead tr:only-child th {\n",
       "        text-align: right;\n",
       "    }\n",
       "\n",
       "    .dataframe thead th {\n",
       "        text-align: left;\n",
       "    }\n",
       "\n",
       "    .dataframe tbody tr th {\n",
       "        vertical-align: top;\n",
       "    }\n",
       "</style>\n",
       "<table border=\"1\" class=\"dataframe\">\n",
       "  <thead>\n",
       "    <tr style=\"text-align: right;\">\n",
       "      <th></th>\n",
       "      <th>ID</th>\n",
       "      <th>Texte</th>\n",
       "      <th>Label</th>\n",
       "      <th>Texte_clean</th>\n",
       "    </tr>\n",
       "  </thead>\n",
       "  <tbody>\n",
       "    <tr>\n",
       "      <th>0</th>\n",
       "      <td>998206424189751296</td>\n",
       "      <td>On m’avait sorti (pour de vrai) « on est tous ...</td>\n",
       "      <td>N</td>\n",
       "      <td>sort vrai tous egal plus parl racism plus gen ...</td>\n",
       "    </tr>\n",
       "    <tr>\n",
       "      <th>1</th>\n",
       "      <td>997896508384169984</td>\n",
       "      <td>VIVE L AMOUR ❤VIVE LA PAIX\\n❤❤❤❤❤❤❤❤❤❤❤❤👏👍\\n...</td>\n",
       "      <td>N</td>\n",
       "      <td>viv amour viv paix entre peupl mond stop racis...</td>\n",
       "    </tr>\n",
       "    <tr>\n",
       "      <th>2</th>\n",
       "      <td>31</td>\n",
       "      <td>J'me rend compte à quel point ya trop d'noir d...</td>\n",
       "      <td>S</td>\n",
       "      <td>rend compt quel point trop noir dan enfait tro...</td>\n",
       "    </tr>\n",
       "    <tr>\n",
       "      <th>3</th>\n",
       "      <td>998519485467414529</td>\n",
       "      <td>@KrypsKarmaKid Tu traites qui de salope la seu...</td>\n",
       "      <td>S</td>\n",
       "      <td>trait salop seul salop con mer put sal mtn sto...</td>\n",
       "    </tr>\n",
       "    <tr>\n",
       "      <th>4</th>\n",
       "      <td>997799245464899584</td>\n",
       "      <td>Voilà à quoi tu dois me servir sale pute ! Ta ...</td>\n",
       "      <td>S</td>\n",
       "      <td>voil quoi dois serv sal put seul utilit mainte...</td>\n",
       "    </tr>\n",
       "  </tbody>\n",
       "</table>\n",
       "</div>"
      ],
      "text/plain": [
       "                   ID                                              Texte  \\\n",
       "0  998206424189751296  On m’avait sorti (pour de vrai) « on est tous ...   \n",
       "1  997896508384169984  VIVE L AMOUR ❤VIVE LA PAIX\\n❤❤❤❤❤❤❤❤❤❤❤❤👏👍\\n...   \n",
       "2                  31  J'me rend compte à quel point ya trop d'noir d...   \n",
       "3  998519485467414529  @KrypsKarmaKid Tu traites qui de salope la seu...   \n",
       "4  997799245464899584  Voilà à quoi tu dois me servir sale pute ! Ta ...   \n",
       "\n",
       "  Label                                        Texte_clean  \n",
       "0     N  sort vrai tous egal plus parl racism plus gen ...  \n",
       "1     N  viv amour viv paix entre peupl mond stop racis...  \n",
       "2     S  rend compt quel point trop noir dan enfait tro...  \n",
       "3     S  trait salop seul salop con mer put sal mtn sto...  \n",
       "4     S  voil quoi dois serv sal put seul utilit mainte...  "
      ]
     },
     "execution_count": 223,
     "metadata": {},
     "output_type": "execute_result"
    }
   ],
   "source": [
    "tweet_file = '/Users/Michi/Google Drive/formation_data_science/twitter_project/help_dicrah/machine_learning/_Tweets_labels_manuels.xlsx'\n",
    "\n",
    "tw_data = pd.read_excel(tweet_file)\n",
    "tw_data.loc[tw_data.Label=='SH', 'Label']='S'\n",
    "tw_data.loc[tw_data.Label=='H', 'Label']='S'\n",
    "\n",
    "tw_data['Texte_clean'] = tw_data.Texte.apply(lambda x:' '.join(remove_stopwords(tokenize(tweet_cleaner(x, my_dict)), generate_stopwords())))\n",
    "\n",
    "tw_data.Label.value_counts()\n",
    "tw_data.head(5)"
   ]
  },
  {
   "cell_type": "code",
   "execution_count": 224,
   "metadata": {
    "collapsed": false,
    "deletable": true,
    "editable": true
   },
   "outputs": [
    {
     "name": "stdout",
     "output_type": "stream",
     "text": [
      "7.21560759876\n"
     ]
    },
    {
     "data": {
      "text/plain": [
       "<__main__.TfidfEmbeddingVectorizer at 0x129000bd0>"
      ]
     },
     "execution_count": 224,
     "metadata": {},
     "output_type": "execute_result"
    }
   ],
   "source": [
    "my_vectorizer = TfidfEmbeddingVectorizer(w2v)\n",
    "\n",
    "my_vectorizer.fit(tw_data.Texte_clean)"
   ]
  },
  {
   "cell_type": "code",
   "execution_count": 225,
   "metadata": {
    "collapsed": false,
    "deletable": true,
    "editable": true
   },
   "outputs": [
    {
     "data": {
      "text/plain": [
       "3.81441021709312"
      ]
     },
     "execution_count": 225,
     "metadata": {},
     "output_type": "execute_result"
    },
    {
     "data": {
      "text/plain": [
       "array([-3.78942466,  2.57184982,  1.79630756,  2.83961678,  2.95204949], dtype=float32)"
      ]
     },
     "execution_count": 225,
     "metadata": {},
     "output_type": "execute_result"
    }
   ],
   "source": [
    "#my_vectorizer.word2vec['racist']\n",
    "my_vectorizer.word2weight['put']\n",
    "np.mean([my_vectorizer.word2vec['put'] * my_vectorizer.word2weight['put']], axis=0)[:5]"
   ]
  },
  {
   "cell_type": "code",
   "execution_count": 226,
   "metadata": {
    "collapsed": false,
    "deletable": true,
    "editable": true
   },
   "outputs": [
    {
     "data": {
      "text/plain": [
       "1    viv amour viv paix entre peupl mond stop racis...\n",
       "2    rend compt quel point trop noir dan enfait tro...\n",
       "Name: Texte_clean, dtype: object"
      ]
     },
     "execution_count": 226,
     "metadata": {},
     "output_type": "execute_result"
    }
   ],
   "source": [
    "tw_data.Texte_clean.iloc[1:3]"
   ]
  },
  {
   "cell_type": "code",
   "execution_count": 227,
   "metadata": {
    "collapsed": false,
    "deletable": true,
    "editable": true
   },
   "outputs": [
    {
     "data": {
      "text/plain": [
       "array([[-1.95606983, -1.37524235],\n",
       "       [-1.34796727, -1.33702421]], dtype=float32)"
      ]
     },
     "execution_count": 227,
     "metadata": {},
     "output_type": "execute_result"
    }
   ],
   "source": [
    "features = my_vectorizer.transform(tw_data.Texte_clean)\n",
    "features[:2,:2]"
   ]
  },
  {
   "cell_type": "markdown",
   "metadata": {
    "deletable": true,
    "editable": true
   },
   "source": [
    "# ML"
   ]
  },
  {
   "cell_type": "code",
   "execution_count": 228,
   "metadata": {
    "collapsed": true,
    "deletable": true,
    "editable": true
   },
   "outputs": [],
   "source": [
    "from sklearn.model_selection import train_test_split\n",
    "from sklearn.model_selection import StratifiedKFold, GridSearchCV\n",
    "from sklearn.pipeline import Pipeline\n",
    "from sklearn.linear_model import LogisticRegression\n",
    "from sklearn.feature_selection import SelectFromModel\n",
    "from sklearn.metrics import classification_report\n"
   ]
  },
  {
   "cell_type": "code",
   "execution_count": 229,
   "metadata": {
    "collapsed": false,
    "deletable": true,
    "editable": true
   },
   "outputs": [
    {
     "data": {
      "text/plain": [
       "{u'N': 0, u'S': 1}"
      ]
     },
     "execution_count": 229,
     "metadata": {},
     "output_type": "execute_result"
    }
   ],
   "source": [
    "#X = pd.DataFrame(M)\n",
    "tw_data['Label_id']=tw_data['Label'].factorize()[0]\n",
    "label_id_df_fr = tw_data[['Label', 'Label_id']].drop_duplicates().sort_values('Label_id')\n",
    "label_to_id_fr = dict(label_id_df_fr.values)\n",
    "\n",
    "y = tw_data['Label_id'].as_matrix()\n",
    "\n",
    "label_to_id_fr"
   ]
  },
  {
   "cell_type": "code",
   "execution_count": 230,
   "metadata": {
    "collapsed": true,
    "deletable": true,
    "editable": true
   },
   "outputs": [],
   "source": [
    "X_train, X_test, y_train, y_test = train_test_split(features, y, random_state=42, test_size=0.15)"
   ]
  },
  {
   "cell_type": "code",
   "execution_count": 231,
   "metadata": {
    "collapsed": false,
    "deletable": true,
    "editable": true
   },
   "outputs": [
    {
     "data": {
      "text/plain": [
       "(850, 200)"
      ]
     },
     "execution_count": 231,
     "metadata": {},
     "output_type": "execute_result"
    }
   ],
   "source": [
    "X_train.shape"
   ]
  },
  {
   "cell_type": "code",
   "execution_count": 232,
   "metadata": {
    "collapsed": false,
    "deletable": true,
    "editable": true
   },
   "outputs": [
    {
     "data": {
      "text/plain": [
       "(850, 2)"
      ]
     },
     "execution_count": 232,
     "metadata": {},
     "output_type": "execute_result"
    },
    {
     "data": {
      "text/plain": [
       "(850,)"
      ]
     },
     "execution_count": 232,
     "metadata": {},
     "output_type": "execute_result"
    }
   ],
   "source": [
    "from sklearn.decomposition import PCA, RandomizedPCA\n",
    "\n",
    "n_components = 2\n",
    "pca = PCA(n_components=n_components, whiten=True).fit(X_train)\n",
    "\n",
    "X_train_pca = pca.transform(X_train)\n",
    "X_test_pca = pca.transform(X_test)\n",
    "\n",
    "X_train_pca.shape\n",
    "y_train.shape"
   ]
  },
  {
   "cell_type": "code",
   "execution_count": 233,
   "metadata": {
    "collapsed": false,
    "deletable": true,
    "editable": true
   },
   "outputs": [
    {
     "data": {
      "text/plain": [
       "array([[-0.48746872, -0.79413766,  1.        ],\n",
       "       [ 0.90882617, -0.20888971,  0.        ],\n",
       "       [-0.26615509, -1.67123544,  0.        ],\n",
       "       ..., \n",
       "       [-0.35911959, -0.64149302,  0.        ],\n",
       "       [-0.20846885, -0.14318195,  1.        ],\n",
       "       [-0.38262492, -0.80208462,  0.        ]])"
      ]
     },
     "execution_count": 233,
     "metadata": {},
     "output_type": "execute_result"
    }
   ],
   "source": [
    "np.append(X_train_pca, y_train.reshape(y_train.shape[0],1), axis=1)"
   ]
  },
  {
   "cell_type": "code",
   "execution_count": 234,
   "metadata": {
    "collapsed": false,
    "deletable": true,
    "editable": true
   },
   "outputs": [
    {
     "data": {
      "text/html": [
       "<div>\n",
       "<style>\n",
       "    .dataframe thead tr:only-child th {\n",
       "        text-align: right;\n",
       "    }\n",
       "\n",
       "    .dataframe thead th {\n",
       "        text-align: left;\n",
       "    }\n",
       "\n",
       "    .dataframe tbody tr th {\n",
       "        vertical-align: top;\n",
       "    }\n",
       "</style>\n",
       "<table border=\"1\" class=\"dataframe\">\n",
       "  <thead>\n",
       "    <tr style=\"text-align: right;\">\n",
       "      <th></th>\n",
       "      <th>P1</th>\n",
       "      <th>P2</th>\n",
       "      <th>Label</th>\n",
       "    </tr>\n",
       "  </thead>\n",
       "  <tbody>\n",
       "    <tr>\n",
       "      <th>0</th>\n",
       "      <td>-0.487469</td>\n",
       "      <td>-0.794138</td>\n",
       "      <td>1.0</td>\n",
       "    </tr>\n",
       "    <tr>\n",
       "      <th>1</th>\n",
       "      <td>0.908826</td>\n",
       "      <td>-0.208890</td>\n",
       "      <td>0.0</td>\n",
       "    </tr>\n",
       "    <tr>\n",
       "      <th>2</th>\n",
       "      <td>-0.266155</td>\n",
       "      <td>-1.671235</td>\n",
       "      <td>0.0</td>\n",
       "    </tr>\n",
       "    <tr>\n",
       "      <th>3</th>\n",
       "      <td>2.669575</td>\n",
       "      <td>0.287564</td>\n",
       "      <td>0.0</td>\n",
       "    </tr>\n",
       "    <tr>\n",
       "      <th>4</th>\n",
       "      <td>-0.482069</td>\n",
       "      <td>0.136829</td>\n",
       "      <td>0.0</td>\n",
       "    </tr>\n",
       "  </tbody>\n",
       "</table>\n",
       "</div>"
      ],
      "text/plain": [
       "         P1        P2  Label\n",
       "0 -0.487469 -0.794138    1.0\n",
       "1  0.908826 -0.208890    0.0\n",
       "2 -0.266155 -1.671235    0.0\n",
       "3  2.669575  0.287564    0.0\n",
       "4 -0.482069  0.136829    0.0"
      ]
     },
     "execution_count": 234,
     "metadata": {},
     "output_type": "execute_result"
    }
   ],
   "source": [
    "tw_data_pca = pd.DataFrame(data=np.append(X_train_pca, y_train.reshape(y_train.shape[0],1), axis=1), columns=['P1','P2','Label'])\n",
    "\n",
    "tw_data_pca.head(5)"
   ]
  },
  {
   "cell_type": "code",
   "execution_count": 235,
   "metadata": {
    "collapsed": false,
    "deletable": true,
    "editable": true
   },
   "outputs": [
    {
     "data": {
      "text/plain": [
       "<seaborn.axisgrid.FacetGrid at 0x12644ee90>"
      ]
     },
     "execution_count": 235,
     "metadata": {},
     "output_type": "execute_result"
    },
    {
     "data": {
      "image/png": "[encoded data removed]",
      "text/plain": [
       "<matplotlib.figure.Figure at 0x12644e410>"
      ]
     },
     "metadata": {},
     "output_type": "display_data"
    }
   ],
   "source": [
    "\n",
    "sns.lmplot(x=\"P1\", y=\"P2\", data=tw_data_pca, fit_reg=False, hue='Label', legend=True, markers=[\"o\", \"x\"], palette=\"Set2\")\n",
    "\n"
   ]
  },
  {
   "cell_type": "code",
   "execution_count": 236,
   "metadata": {
    "collapsed": false,
    "deletable": true,
    "editable": true
   },
   "outputs": [
    {
     "data": {
      "text/plain": [
       "LogisticRegression(C=1.0, class_weight=None, dual=False, fit_intercept=True,\n",
       "          intercept_scaling=1, max_iter=100, multi_class='ovr', n_jobs=1,\n",
       "          penalty='l2', random_state=None, solver='liblinear', tol=0.0001,\n",
       "          verbose=0, warm_start=False)"
      ]
     },
     "execution_count": 236,
     "metadata": {},
     "output_type": "execute_result"
    }
   ],
   "source": [
    "from sklearn import linear_model\n",
    "\n",
    "model = linear_model.LogisticRegression(C=1.)\n",
    "\n",
    "model.fit(X_train, y_train)"
   ]
  },
  {
   "cell_type": "code",
   "execution_count": 237,
   "metadata": {
    "collapsed": false,
    "deletable": true,
    "editable": true
   },
   "outputs": [
    {
     "name": "stdout",
     "output_type": "stream",
     "text": [
      "             precision    recall  f1-score   support\n",
      "\n",
      "          0       0.86      0.93      0.89       122\n",
      "          1       0.53      0.32      0.40        28\n",
      "\n",
      "avg / total       0.80      0.82      0.80       150\n",
      "\n"
     ]
    }
   ],
   "source": [
    "y_preds = model.predict(X_test)\n",
    "print(classification_report( y_test, y_preds ))"
   ]
  },
  {
   "cell_type": "code",
   "execution_count": 238,
   "metadata": {
    "collapsed": false,
    "deletable": true,
    "editable": true
   },
   "outputs": [
    {
     "data": {
      "image/png": "[encoded data removed]",
      "text/plain": [
       "<matplotlib.figure.Figure at 0x1248c5750>"
      ]
     },
     "metadata": {},
     "output_type": "display_data"
    }
   ],
   "source": [
    "from sklearn.metrics import confusion_matrix\n",
    "\n",
    "confusion_matrix = confusion_matrix(y_test,y_preds)\n",
    "matrix_proportions = np.zeros((2,2))\n",
    "for i in range(0,2):\n",
    "    matrix_proportions[i,:] = confusion_matrix[i,:]/float(confusion_matrix[i,:].sum())\n",
    "names=['N','S']\n",
    "confusion_df = pd.DataFrame(matrix_proportions, \n",
    "                            index=names,columns=names)\n",
    "plt.figure(figsize=(5,5))\n",
    "sns.heatmap(confusion_df,annot=True,\n",
    "            annot_kws={\"size\": 12},cmap='gist_gray_r',\n",
    "            cbar=False, square=True,fmt='.2f');\n",
    "plt.ylabel(r'True categories',fontsize=14);\n",
    "plt.xlabel(r'Predicted categories',fontsize=14);\n",
    "plt.tick_params(labelsize=12);\n",
    "\n"
   ]
  },
  {
   "cell_type": "code",
   "execution_count": null,
   "metadata": {
    "collapsed": true,
    "deletable": true,
    "editable": true
   },
   "outputs": [],
   "source": []
  }
 ],
 "metadata": {
  "kernelspec": {
   "display_name": "Python 2",
   "language": "python",
   "name": "python2"
  },
  "language_info": {
   "codemirror_mode": {
    "name": "ipython",
    "version": 2
   },
   "file_extension": ".py",
   "mimetype": "text/x-python",
   "name": "python",
   "nbconvert_exporter": "python",
   "pygments_lexer": "ipython2",
   "version": "2.7.13"
  }
 },
 "nbformat": 4,
 "nbformat_minor": 2
}
